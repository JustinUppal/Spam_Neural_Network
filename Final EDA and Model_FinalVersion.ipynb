{
 "cells": [
  {
   "cell_type": "code",
   "execution_count": 43,
   "id": "bc23c24f-9cd6-4e8d-be06-4408fcc66036",
   "metadata": {
    "executionInfo": {
     "elapsed": 9934,
     "status": "ok",
     "timestamp": 1710449987323,
     "user": {
      "displayName": "Justin Uppal",
      "userId": "15589433220876229596"
     },
     "user_tz": 240
    },
    "id": "bc23c24f-9cd6-4e8d-be06-4408fcc66036"
   },
   "outputs": [],
   "source": [
    "import tensorflow as tf\n",
    "import tarfile\n",
    "import os\n",
    "import pandas as pd\n",
    "import numpy as np\n",
    "import re\n",
    "from tabulate import tabulate\n",
    "from collections import Counter\n",
    "from itertools import combinations\n",
    "from scipy import stats\n",
    "import matplotlib.pyplot as plt\n",
    "from matplotlib_venn import venn2\n",
    "from tabulate import tabulate\n",
    "import seaborn as sns\n",
    "from matplotlib.ticker import FuncFormatter\n",
    "from tensorflow.keras.preprocessing.sequence import pad_sequences\n",
    "from sklearn.model_selection import train_test_split\n",
    "from tensorflow.keras.models import Sequential\n",
    "from tensorflow.keras.layers import Embedding, LSTM, Dense, Dropout, Input\n",
    "from tensorflow.keras.callbacks import EarlyStopping\n",
    "from sklearn.metrics import confusion_matrix"
   ]
  },
  {
   "cell_type": "markdown",
   "id": "ac5ee762-1d26-46e5-b9ce-afbff0a6a2a9",
   "metadata": {
    "id": "ac5ee762-1d26-46e5-b9ce-afbff0a6a2a9"
   },
   "source": [
    "## Data Preprocessing"
   ]
  },
  {
   "cell_type": "markdown",
   "id": "c00717ad-a9d9-4bec-8643-64231798bee2",
   "metadata": {
    "id": "c00717ad-a9d9-4bec-8643-64231798bee2"
   },
   "source": [
    "#### Extract the tar file and grab it's contents. Also ensure that the extraction file exists."
   ]
  },
  {
   "cell_type": "code",
   "execution_count": 2,
   "id": "674c7985-1bd3-4548-8b3a-e042983c9924",
   "metadata": {
    "colab": {
     "base_uri": "https://localhost:8080/",
     "height": 365
    },
    "executionInfo": {
     "elapsed": 161,
     "status": "error",
     "timestamp": 1710450078149,
     "user": {
      "displayName": "Justin Uppal",
      "userId": "15589433220876229596"
     },
     "user_tz": 240
    },
    "id": "674c7985-1bd3-4548-8b3a-e042983c9924",
    "outputId": "0ce29348-25c8-4d03-95b6-79c852127da6"
   },
   "outputs": [
    {
     "data": {
      "text/plain": [
       "['pu_corpora_public', '.DS_Store']"
      ]
     },
     "execution_count": 2,
     "metadata": {},
     "output_type": "execute_result"
    }
   ],
   "source": [
    "\n",
    "tar_path = 'pu_corpora_public.tar'\n",
    "extract_to = 'pu_corpora_public'\n",
    "\n",
    "if not os.path.exists(extract_to):\n",
    "    os.makedirs(extract_to)\n",
    "\n",
    "with tarfile.open(tar_path) as tar:\n",
    "    tar.extractall(path=extract_to)\n",
    "\n",
    "extracted_contents = os.listdir(extract_to)\n",
    "extracted_contents"
   ]
  },
  {
   "cell_type": "markdown",
   "id": "c6a06e8d-1d7f-4539-bec0-3879ef2278bc",
   "metadata": {
    "id": "c6a06e8d-1d7f-4539-bec0-3879ef2278bc"
   },
   "source": [
    "#### List the files of the dataset, including readme file and list them"
   ]
  },
  {
   "cell_type": "code",
   "execution_count": 3,
   "id": "7f3504d6-7518-4d48-aecd-0c148575fac6",
   "metadata": {
    "colab": {
     "base_uri": "https://localhost:8080/",
     "height": 180
    },
    "executionInfo": {
     "elapsed": 176,
     "status": "error",
     "timestamp": 1710450069135,
     "user": {
      "displayName": "Justin Uppal",
      "userId": "15589433220876229596"
     },
     "user_tz": 240
    },
    "id": "7f3504d6-7518-4d48-aecd-0c148575fac6",
    "outputId": "60d2c2a9-93f2-4c62-8c57-0f2141b310dc"
   },
   "outputs": [
    {
     "data": {
      "text/plain": [
       "['.DS_Store', 'pu1', 'pua', 'readme.txt', 'pu2', 'pu3']"
      ]
     },
     "execution_count": 3,
     "metadata": {},
     "output_type": "execute_result"
    }
   ],
   "source": [
    "\n",
    "subdirectory_path = os.path.join(extract_to, 'pu_corpora_public')\n",
    "subdirectory_contents = os.listdir(subdirectory_path)\n",
    "subdirectory_contents"
   ]
  },
  {
   "cell_type": "markdown",
   "id": "7fa62fff-046d-48b0-a7a5-050283e49c37",
   "metadata": {
    "id": "7fa62fff-046d-48b0-a7a5-050283e49c37"
   },
   "source": [
    "#### Examine the readme file"
   ]
  },
  {
   "cell_type": "code",
   "execution_count": 4,
   "id": "d70bc987-ec58-4b3f-bb93-73794d41a123",
   "metadata": {
    "id": "d70bc987-ec58-4b3f-bb93-73794d41a123",
    "outputId": "0b2dd2fa-3cfc-436e-82f3-35123708e643"
   },
   "outputs": [
    {
     "name": "stdout",
     "output_type": "stream",
     "text": [
      "This directory contains the PU1, PU2, PU3, and PUA corpora, as \n",
      "described in the paper:\n",
      "\n",
      "I. Androutsopoulos, G. Paliouras, E. Michelakis, \"Learning to \n",
      "Filter Unsolicited Commercial E-Mail\", submitted for journal \n",
      "publication, 2003.\n",
      "\n",
      "There are 4 directories (pu1, pu2, pu3, pua), each containing\n",
      "one of the four corpora. \n",
      "\n",
      "Each one of the 4 directories in turn contains 11 subdirectories \n",
      "(part1, ..., part10, unused). These correspond to the 10 partitions \n",
      "of each corpus that were used in the 10-fo\n"
     ]
    }
   ],
   "source": [
    "\n",
    "readme_path = os.path.join(subdirectory_path, 'readme.txt')\n",
    "\n",
    "with open(readme_path, 'r') as file:\n",
    "    readme_contents = file.read()\n",
    "\n",
    "print(readme_contents[:500])"
   ]
  },
  {
   "cell_type": "markdown",
   "id": "fd168898-2c61-4b17-801a-15795f3810e9",
   "metadata": {
    "id": "fd168898-2c61-4b17-801a-15795f3810e9"
   },
   "source": [
    "#### Let's see what the data formatting looks like in one of the subdirectories"
   ]
  },
  {
   "cell_type": "code",
   "execution_count": 5,
   "id": "a26ebead-dc31-4fed-a8a5-85037ad2070d",
   "metadata": {
    "id": "a26ebead-dc31-4fed-a8a5-85037ad2070d",
    "outputId": "ab0ba0e8-f4a6-474d-bdca-2483f9e1e4d5"
   },
   "outputs": [
    {
     "data": {
      "text/plain": [
       "['1988legit13.txt',\n",
       " '1221legit54.txt',\n",
       " '1198legit14.txt',\n",
       " '1394spmsg90.txt',\n",
       " '1110legit57.txt',\n",
       " '1545legit49.txt',\n",
       " '177spmsg68.txt',\n",
       " '1716legit2.txt',\n",
       " '1926spmsg88.txt',\n",
       " '1489legit32.txt']"
      ]
     },
     "execution_count": 5,
     "metadata": {},
     "output_type": "execute_result"
    }
   ],
   "source": [
    "\n",
    "sample_corpus_path = os.path.join(subdirectory_path, 'pu1', 'part1')\n",
    "\n",
    "\n",
    "sample_corpus_contents = os.listdir(sample_corpus_path)\n",
    "sample_corpus_contents[:10]"
   ]
  },
  {
   "cell_type": "markdown",
   "id": "e6fd0cc7-5faa-4e6b-a4b7-02a7109004fe",
   "metadata": {
    "id": "e6fd0cc7-5faa-4e6b-a4b7-02a7109004fe"
   },
   "source": [
    "Notice that emails that are not spap are considered \"legit\""
   ]
  },
  {
   "cell_type": "markdown",
   "id": "dd56454b-bf0d-40a8-9594-809c18a8671c",
   "metadata": {
    "id": "dd56454b-bf0d-40a8-9594-809c18a8671c"
   },
   "source": [
    "#### Let's take a look at one of the text files"
   ]
  },
  {
   "cell_type": "code",
   "execution_count": 6,
   "id": "76766904-3107-45f9-bdb5-8ffdc7553790",
   "metadata": {
    "id": "76766904-3107-45f9-bdb5-8ffdc7553790",
    "outputId": "b7c53c23-c621-4596-a72a-159b585c9cc5"
   },
   "outputs": [
    {
     "name": "stdout",
     "output_type": "stream",
     "text": [
      "Subject: 5573 47\n",
      "\n",
      "3677 22660 15981 9594 5573 2130 16502 22064 15981 9594 84 19054 9594 16893 7913 1613 16502 8615 3617 1991 3677 22660 80 4695 19054 12995 8890 84 16502 9594 7602 6217 1967 16502 17157 1991 16502 15779 20385 15981 9594 80 14911 897 16993 19283 18957 3617 80 14338 180 631 1967 180 2521 14766 15820 4978 22328 84 19054 15981 9594 1847 17912 2130 1594 180 18316 20215 23479 14338 7088 6485 1835 3677 22660 84 19889 1967 19410 18065 1594 23772 2130 51 22064 132 1672 84 7423 84 14000 51 \n"
     ]
    }
   ],
   "source": [
    "\n",
    "def is_spam(filename):\n",
    "    return 'spmsg' in filename\n",
    "\n",
    "def load_text_file(file_path):\n",
    "    with open(file_path, 'r', encoding='utf-8', errors='ignore') as file:\n",
    "        return file.read()\n",
    "sample_file_path = os.path.join(sample_corpus_path, sample_corpus_contents[0])\n",
    "sample_file_content = load_text_file(sample_file_path)\n",
    "print(sample_file_content[:500])"
   ]
  },
  {
   "cell_type": "markdown",
   "id": "101c8f31-d5af-4d60-88ed-efaef8deb3f8",
   "metadata": {
    "id": "101c8f31-d5af-4d60-88ed-efaef8deb3f8"
   },
   "source": [
    "Notice that the emails have already been tokenized - the dataset has already been preprocessed to some extent"
   ]
  },
  {
   "cell_type": "markdown",
   "id": "08342aa8-6b4c-47e5-b620-fa5c0f3b3448",
   "metadata": {
    "id": "08342aa8-6b4c-47e5-b620-fa5c0f3b3448"
   },
   "source": [
    "## EDA\n",
    "\n",
    "Before we begin modeling, let's explore the data. The code below loops through each file in the \"pu_corpora_public\" folder and reads it into a single dataframe."
   ]
  },
  {
   "cell_type": "code",
   "execution_count": 7,
   "id": "6e24f518-2718-41ad-9dee-55a430bbc45b",
   "metadata": {
    "id": "6e24f518-2718-41ad-9dee-55a430bbc45b",
    "outputId": "bcb26de5-4add-4d15-a9a0-35f3017df0c0",
    "scrolled": true
   },
   "outputs": [
    {
     "data": {
      "text/html": [
       "<div>\n",
       "<style scoped>\n",
       "    .dataframe tbody tr th:only-of-type {\n",
       "        vertical-align: middle;\n",
       "    }\n",
       "\n",
       "    .dataframe tbody tr th {\n",
       "        vertical-align: top;\n",
       "    }\n",
       "\n",
       "    .dataframe thead th {\n",
       "        text-align: right;\n",
       "    }\n",
       "</style>\n",
       "<table border=\"1\" class=\"dataframe\">\n",
       "  <thead>\n",
       "    <tr style=\"text-align: right;\">\n",
       "      <th></th>\n",
       "      <th>text</th>\n",
       "      <th>spam</th>\n",
       "    </tr>\n",
       "  </thead>\n",
       "  <tbody>\n",
       "    <tr>\n",
       "      <th>0</th>\n",
       "      <td>Subject: 5573 47\\n\\n3677 22660 15981 9594 5573...</td>\n",
       "      <td>0</td>\n",
       "    </tr>\n",
       "    <tr>\n",
       "      <th>1</th>\n",
       "      <td>Subject: 5581 2130 2005 47\\n\\n1791 13383 80 89...</td>\n",
       "      <td>0</td>\n",
       "    </tr>\n",
       "    <tr>\n",
       "      <th>2</th>\n",
       "      <td>Subject: 1368 15860 14338 5915 82 101 3124\\n\\n...</td>\n",
       "      <td>0</td>\n",
       "    </tr>\n",
       "    <tr>\n",
       "      <th>3</th>\n",
       "      <td>Subject: 7265 131 14950 7721 47 47 2176 13757 ...</td>\n",
       "      <td>1</td>\n",
       "    </tr>\n",
       "    <tr>\n",
       "      <th>4</th>\n",
       "      <td>Subject: 167 190 82 3115 171 5652 2221 118 186...</td>\n",
       "      <td>0</td>\n",
       "    </tr>\n",
       "  </tbody>\n",
       "</table>\n",
       "</div>"
      ],
      "text/plain": [
       "                                                text  spam\n",
       "0  Subject: 5573 47\\n\\n3677 22660 15981 9594 5573...     0\n",
       "1  Subject: 5581 2130 2005 47\\n\\n1791 13383 80 89...     0\n",
       "2  Subject: 1368 15860 14338 5915 82 101 3124\\n\\n...     0\n",
       "3  Subject: 7265 131 14950 7721 47 47 2176 13757 ...     1\n",
       "4  Subject: 167 190 82 3115 171 5652 2221 118 186...     0"
      ]
     },
     "execution_count": 7,
     "metadata": {},
     "output_type": "execute_result"
    }
   ],
   "source": [
    "# Root drive for text files\n",
    "root_dir = \"pu_corpora_public/pu_corpora_public\"\n",
    "\n",
    "# Initialize empty lists to store emails\n",
    "email_texts = []\n",
    "labels = []\n",
    "\n",
    "# Iterate through each folder (pu1, pu2, pu3, pua)\n",
    "for folder in ['pu1', 'pu2', 'pu3', 'pua']:\n",
    "    folder_path = os.path.join(root_dir, folder)\n",
    "\n",
    "    # Iterate through each \"part\" folder\n",
    "    for part in range(1, 11):\n",
    "        part_folder_path = os.path.join(folder_path, 'part' + str(part))\n",
    "\n",
    "        # Iterate through each file\n",
    "        for file_name in os.listdir(part_folder_path):\n",
    "            file_path = os.path.join(part_folder_path, file_name)\n",
    "\n",
    "            # Check if file is a text file and contains 'spmsg' or 'legit' in the file name\n",
    "            if file_name.endswith('.txt'):\n",
    "                with open(file_path, 'r', encoding='latin-1') as file:\n",
    "                    email_text = file.read()\n",
    "\n",
    "                    email_texts.append(email_text)\n",
    "\n",
    "                    # Determine if email is spam or ham\n",
    "                    if 'spmsg' in file_name:\n",
    "                        labels.append(1)\n",
    "                    elif 'legit' in file_name:\n",
    "                        labels.append(0)\n",
    "\n",
    "\n",
    "df = pd.DataFrame({'text': email_texts, 'spam': labels})\n",
    "df.head()\n"
   ]
  },
  {
   "cell_type": "code",
   "execution_count": 8,
   "id": "91dd22dd-4086-4aaf-8121-e7623cb8dd22",
   "metadata": {
    "id": "91dd22dd-4086-4aaf-8121-e7623cb8dd22",
    "outputId": "352ede8d-4a7d-4b98-a23c-4712d19da4f6"
   },
   "outputs": [
    {
     "name": "stdout",
     "output_type": "stream",
     "text": [
      "<class 'pandas.core.frame.DataFrame'>\n",
      "RangeIndex: 7070 entries, 0 to 7069\n",
      "Data columns (total 2 columns):\n",
      " #   Column  Non-Null Count  Dtype \n",
      "---  ------  --------------  ----- \n",
      " 0   text    7070 non-null   object\n",
      " 1   spam    7070 non-null   int64 \n",
      "dtypes: int64(1), object(1)\n",
      "memory usage: 110.6+ KB\n"
     ]
    }
   ],
   "source": [
    "df.info()"
   ]
  },
  {
   "cell_type": "markdown",
   "id": "f54b687f-b238-4f18-8a04-5d10e9ee5dde",
   "metadata": {
    "id": "f54b687f-b238-4f18-8a04-5d10e9ee5dde"
   },
   "source": [
    "The dataframe contains 7,070 emails in total. The data has been read into one column named \"text\" which contains the tokenized contents of the email, and a \"spam\" column that denotes ham emails as 0 and spam emails as 1."
   ]
  },
  {
   "cell_type": "code",
   "execution_count": 9,
   "id": "b287a960-79b3-4fa3-a72b-35942bedd367",
   "metadata": {
    "id": "b287a960-79b3-4fa3-a72b-35942bedd367",
    "outputId": "5f4ea6e8-33e4-4d56-942e-35b6e35d8e60"
   },
   "outputs": [
    {
     "name": "stdout",
     "output_type": "stream",
     "text": [
      "Category     Number of Emails    Percent\n",
      "-----------  ------------------  ---------\n",
      "Spam Emails  3,010               42.57%\n",
      "Ham Emails   4,060               57.43%\n"
     ]
    }
   ],
   "source": [
    "# Calculate number of spam emails\n",
    "num_spam_emails = df[df['spam'] == 1]['spam'].count()\n",
    "\n",
    "# Calculate number of ham emails\n",
    "num_ham_emails = df[df['spam'] == 0]['spam'].count()\n",
    "\n",
    "# Calculate the total number of emails\n",
    "total_emails = len(df)\n",
    "\n",
    "# Calculate percentages of spam/ham emails\n",
    "percent_spam = (num_spam_emails / total_emails) * 100\n",
    "percent_ham = (num_ham_emails / total_emails) * 100\n",
    "\n",
    "# Create a table with the results\n",
    "data = [\n",
    "    [\"Spam Emails\", \"{:,}\".format(num_spam_emails), \"{:.2f}%\".format(percent_spam)],\n",
    "    [\"Ham Emails\", \"{:,}\".format(num_ham_emails), \"{:.2f}%\".format(percent_ham)]\n",
    "]\n",
    "\n",
    "headers = [\"Category\", \"Number of Emails\", \"Percent\"]\n",
    "print(tabulate(data, headers=headers))"
   ]
  },
  {
   "cell_type": "markdown",
   "id": "9ba72a73-71b3-4eaf-8a35-dc09fd38f309",
   "metadata": {
    "id": "9ba72a73-71b3-4eaf-8a35-dc09fd38f309"
   },
   "source": [
    "The emails are split roughly evenly between ham and spam emails"
   ]
  },
  {
   "cell_type": "code",
   "execution_count": 10,
   "id": "06b6b484-1c2a-4714-9c68-c8d1ddef4ec7",
   "metadata": {
    "id": "06b6b484-1c2a-4714-9c68-c8d1ddef4ec7",
    "outputId": "2cef8e7a-1a23-463f-d2e8-3c545db93cd6",
    "scrolled": true
   },
   "outputs": [
    {
     "data": {
      "text/html": [
       "<div>\n",
       "<style scoped>\n",
       "    .dataframe tbody tr th:only-of-type {\n",
       "        vertical-align: middle;\n",
       "    }\n",
       "\n",
       "    .dataframe tbody tr th {\n",
       "        vertical-align: top;\n",
       "    }\n",
       "\n",
       "    .dataframe thead th {\n",
       "        text-align: right;\n",
       "    }\n",
       "</style>\n",
       "<table border=\"1\" class=\"dataframe\">\n",
       "  <thead>\n",
       "    <tr style=\"text-align: right;\">\n",
       "      <th></th>\n",
       "      <th>Category</th>\n",
       "      <th>Average Words</th>\n",
       "      <th>Minimum Words</th>\n",
       "      <th>Maximum Words</th>\n",
       "      <th>P-value (Avg)</th>\n",
       "      <th>P-value (Min)</th>\n",
       "      <th>P-value (Max)</th>\n",
       "      <th>Statistical Difference (Avg)</th>\n",
       "      <th>Statistical Difference (Min)</th>\n",
       "      <th>Statistical Difference (Max)</th>\n",
       "    </tr>\n",
       "  </thead>\n",
       "  <tbody>\n",
       "    <tr>\n",
       "      <th>0</th>\n",
       "      <td>Spam Emails</td>\n",
       "      <td>758.860797</td>\n",
       "      <td>2</td>\n",
       "      <td>10284</td>\n",
       "      <td>0.01863</td>\n",
       "      <td>0.01863</td>\n",
       "      <td>0.01863</td>\n",
       "      <td>Yes</td>\n",
       "      <td>Yes</td>\n",
       "      <td>Yes</td>\n",
       "    </tr>\n",
       "    <tr>\n",
       "      <th>1</th>\n",
       "      <td>Ham Emails</td>\n",
       "      <td>627.662808</td>\n",
       "      <td>4</td>\n",
       "      <td>134885</td>\n",
       "      <td></td>\n",
       "      <td></td>\n",
       "      <td></td>\n",
       "      <td></td>\n",
       "      <td></td>\n",
       "      <td></td>\n",
       "    </tr>\n",
       "  </tbody>\n",
       "</table>\n",
       "</div>"
      ],
      "text/plain": [
       "      Category  Average Words  Minimum Words  Maximum Words P-value (Avg)  \\\n",
       "0  Spam Emails     758.860797              2          10284       0.01863   \n",
       "1   Ham Emails     627.662808              4         134885                 \n",
       "\n",
       "  P-value (Min) P-value (Max) Statistical Difference (Avg)  \\\n",
       "0       0.01863       0.01863                          Yes   \n",
       "1                                                            \n",
       "\n",
       "  Statistical Difference (Min) Statistical Difference (Max)  \n",
       "0                          Yes                          Yes  \n",
       "1                                                            "
      ]
     },
     "execution_count": 10,
     "metadata": {},
     "output_type": "execute_result"
    }
   ],
   "source": [
    "# Calculate the number of words in each email\n",
    "df['num_words'] = df['text'].apply(lambda x: len(x.split()))\n",
    "\n",
    "# Calculate average, min, and max number of words for spam emails\n",
    "spam_df = df[df['spam'] == 1]\n",
    "avg_words_spam = spam_df['num_words'].mean()\n",
    "min_words_spam = spam_df['num_words'].min()\n",
    "max_words_spam = spam_df['num_words'].max()\n",
    "\n",
    "# Calculate average, min, and max number of words for ham emails\n",
    "ham_df = df[df['spam'] == 0]\n",
    "avg_words_ham = ham_df['num_words'].mean()\n",
    "min_words_ham = ham_df['num_words'].min()\n",
    "max_words_ham = ham_df['num_words'].max()\n",
    "\n",
    "# T-Tests\n",
    "t_statistic_avg, p_value_avg = stats.ttest_ind(spam_df['num_words'], ham_df['num_words'])\n",
    "t_statistic_min, p_value_min = stats.ttest_ind(spam_df['num_words'], ham_df['num_words'])\n",
    "t_statistic_max, p_value_max = stats.ttest_ind(spam_df['num_words'], ham_df['num_words'])\n",
    "\n",
    "# Determine if there is a statistical difference\n",
    "stat_diff_avg = \"Yes\" if p_value_avg < 0.05 else \"No\"\n",
    "stat_diff_min = \"Yes\" if p_value_min < 0.05 else \"No\"\n",
    "stat_diff_max = \"Yes\" if p_value_max < 0.05 else \"No\"\n",
    "\n",
    "data = {\n",
    "    \"Category\": [\"Spam Emails\", \"Ham Emails\"],\n",
    "    \"Average Words\": [avg_words_spam, avg_words_ham],\n",
    "    \"Minimum Words\": [min_words_spam, min_words_ham],\n",
    "    \"Maximum Words\": [max_words_spam, max_words_ham],\n",
    "    \"P-value (Avg)\": [p_value_avg, \"\"],\n",
    "    \"P-value (Min)\": [p_value_min, \"\"],\n",
    "    \"P-value (Max)\": [p_value_max, \"\"],\n",
    "    \"Statistical Difference (Avg)\": [stat_diff_avg, \"\"],\n",
    "    \"Statistical Difference (Min)\": [stat_diff_min, \"\"],\n",
    "    \"Statistical Difference (Max)\": [stat_diff_max, \"\"]\n",
    "}\n",
    "\n",
    "df_stats = pd.DataFrame(data)\n",
    "df_stats\n"
   ]
  },
  {
   "cell_type": "markdown",
   "id": "740ade3c-59e2-4bfa-91b3-fcb5ba4c5843",
   "metadata": {
    "id": "740ade3c-59e2-4bfa-91b3-fcb5ba4c5843"
   },
   "source": [
    "Using a t-test, we can see that there is a statistically significant differences between the average number of words in spam vs ham emails (759 vs 628, respectively)."
   ]
  },
  {
   "cell_type": "code",
   "execution_count": 11,
   "id": "9e691e88-e7c6-4bcb-a509-7bba9a5e2028",
   "metadata": {
    "id": "9e691e88-e7c6-4bcb-a509-7bba9a5e2028",
    "outputId": "6cf53ed4-1898-4930-83a6-317f31af1fd9"
   },
   "outputs": [
    {
     "name": "stdout",
     "output_type": "stream",
     "text": [
      "Number of outliers in ham emails: 343\n",
      "Number of outliers in spam emails: 344\n"
     ]
    }
   ],
   "source": [
    "ham_words = df[df['spam'] == 0]['text'].apply(lambda x: len(x.split()))\n",
    "spam_words = df[df['spam'] == 1]['text'].apply(lambda x: len(x.split()))\n",
    "\n",
    "# Calculate the quartiles and interquartile range for ham and spam emails\n",
    "ham_q1, ham_q3 = ham_words.quantile([0.25, 0.75])\n",
    "ham_iqr = ham_q3 - ham_q1\n",
    "\n",
    "spam_q1, spam_q3 = spam_words.quantile([0.25, 0.75])\n",
    "spam_iqr = spam_q3 - spam_q1\n",
    "\n",
    "# Define the thresholds for outliers\n",
    "ham_outlier_threshold = 1.5 * ham_iqr\n",
    "spam_outlier_threshold = 1.5 * spam_iqr\n",
    "\n",
    "# Identify outliers for ham and spam emails\n",
    "ham_outliers = ham_words[(ham_words < (ham_q1 - ham_outlier_threshold)) |\n",
    "                         (ham_words > (ham_q3 + ham_outlier_threshold))]\n",
    "\n",
    "spam_outliers = spam_words[(spam_words < (spam_q1 - spam_outlier_threshold)) |\n",
    "                           (spam_words > (spam_q3 + spam_outlier_threshold))]\n",
    "\n",
    "# Count the number of outliers\n",
    "num_ham_outliers = len(ham_outliers)\n",
    "num_spam_outliers = len(spam_outliers)\n",
    "\n",
    "print(\"Number of outliers in ham emails:\", num_ham_outliers)\n",
    "print(\"Number of outliers in spam emails:\", num_spam_outliers)\n"
   ]
  },
  {
   "cell_type": "code",
   "execution_count": 12,
   "id": "a2184bdb-295b-4b02-ad75-71e16c48eacc",
   "metadata": {
    "id": "a2184bdb-295b-4b02-ad75-71e16c48eacc",
    "outputId": "75cfa20b-71e5-49a5-f192-0310324574d6"
   },
   "outputs": [
    {
     "data": {
      "image/png": "[encoded data removed]",
      "text/plain": [
       "<Figure size 432x288 with 1 Axes>"
      ]
     },
     "metadata": {
      "needs_background": "light"
     },
     "output_type": "display_data"
    }
   ],
   "source": [
    "# Remove outliers from ham and spam words\n",
    "ham_words_no_outliers = ham_words[~ham_words.isin(ham_outliers)]\n",
    "spam_words_no_outliers = spam_words[~spam_words.isin(spam_outliers)]\n",
    "\n",
    "# Create a boxplot without outliers\n",
    "sns.boxplot(data=[ham_words_no_outliers, spam_words_no_outliers], palette=[\"blue\", \"red\"])\n",
    "\n",
    "# Set labels and title\n",
    "plt.xlabel('Category')\n",
    "plt.ylabel('Number of Words')\n",
    "plt.title('Distribution of Number of Words in Emails (Outliers Removed)')\n",
    "\n",
    "# Show the plot\n",
    "plt.show()\n"
   ]
  },
  {
   "cell_type": "markdown",
   "id": "7b759fd9-99a2-452d-bc96-d96f30b36e07",
   "metadata": {
    "id": "7b759fd9-99a2-452d-bc96-d96f30b36e07"
   },
   "source": [
    "#### Distribution of number of words in both ham and spam emails"
   ]
  },
  {
   "cell_type": "code",
   "execution_count": 13,
   "id": "65dd3045-5fcb-4db6-8668-29bb8258818a",
   "metadata": {
    "id": "65dd3045-5fcb-4db6-8668-29bb8258818a",
    "outputId": "0b111e27-c085-42ce-9230-31b2dd0464a3"
   },
   "outputs": [
    {
     "data": {
      "image/png": "[encoded data removed]",
      "text/plain": [
       "<Figure size 864x432 with 2 Axes>"
      ]
     },
     "metadata": {
      "needs_background": "light"
     },
     "output_type": "display_data"
    }
   ],
   "source": [
    "\n",
    "# Set up the figure with two subplots\n",
    "fig, axes = plt.subplots(1, 2, figsize=(12, 6))\n",
    "\n",
    "# Remove outliers from ham and spam words\n",
    "ham_words_no_outliers = ham_words[~ham_words.isin(ham_outliers)]\n",
    "spam_words_no_outliers = spam_words[~spam_words.isin(spam_outliers)]\n",
    "\n",
    "# Calculate the maximum number of words among both ham and spam emails\n",
    "max_words_no_outliers = max(ham_words_no_outliers.max(), spam_words_no_outliers.max())\n",
    "\n",
    "# Set bins for the histogram\n",
    "bins = range(0, max_words_no_outliers + 10, 10)\n",
    "\n",
    "# Plot the distribution of number of words in ham emails\n",
    "sns.histplot(ham_words_no_outliers, bins=bins, color='blue', alpha=0.7, ax=axes[0])\n",
    "axes[0].set_xlabel('Number of Words')\n",
    "axes[0].set_ylabel('Frequency')\n",
    "axes[0].set_title('Distribution of Number of Words in Ham Emails (Outliers Removed)')\n",
    "\n",
    "# Plot the distribution of number of words in spam emails\n",
    "sns.histplot(spam_words_no_outliers, bins=bins, color='red', alpha=0.7, ax=axes[1])\n",
    "axes[1].set_xlabel('Number of Words')\n",
    "axes[1].set_ylabel('Frequency')\n",
    "axes[1].set_title('Distribution of Number of Words in Spam Emails (Outliers Removed)')\n",
    "\n",
    "# Adjust layout\n",
    "plt.tight_layout()\n",
    "\n",
    "# Show the plot\n",
    "plt.show()\n"
   ]
  },
  {
   "cell_type": "markdown",
   "id": "66bdabf5-43e9-42bb-ac71-ee57e867e125",
   "metadata": {
    "id": "66bdabf5-43e9-42bb-ac71-ee57e867e125"
   },
   "source": [
    "#### Calc number of unique words for both spam and ham emails"
   ]
  },
  {
   "cell_type": "code",
   "execution_count": 14,
   "id": "49b89338-01e6-4feb-807b-55f5035fd60b",
   "metadata": {
    "id": "49b89338-01e6-4feb-807b-55f5035fd60b",
    "outputId": "ae9396b3-c5da-4309-8dd5-35b8d83d3fc5"
   },
   "outputs": [
    {
     "name": "stdout",
     "output_type": "stream",
     "text": [
      "Number of unique words in ham emails: 52686\n",
      "Number of unique words in spam emails: 42384\n"
     ]
    }
   ],
   "source": [
    "# Concatenate all ham emails into a single string\n",
    "ham_emails_text = ' '.join(df[df['spam'] == 0]['text'])\n",
    "\n",
    "# Concatenate all spam emails into a single string\n",
    "spam_emails_text = ' '.join(df[df['spam'] == 1]['text'])\n",
    "\n",
    "# Split the concatenated strings into words\n",
    "ham_words = ham_emails_text.split()\n",
    "spam_words = spam_emails_text.split()\n",
    "\n",
    "# Count the number of unique words\n",
    "num_unique_ham_words = len(set(ham_words))\n",
    "num_unique_spam_words = len(set(spam_words))\n",
    "\n",
    "print(\"Number of unique words in ham emails:\", num_unique_ham_words)\n",
    "print(\"Number of unique words in spam emails:\", num_unique_spam_words)\n"
   ]
  },
  {
   "cell_type": "code",
   "execution_count": 15,
   "id": "a7bf5266-a382-43ac-b614-83cc6dc09c96",
   "metadata": {
    "id": "a7bf5266-a382-43ac-b614-83cc6dc09c96",
    "outputId": "0af891a4-b9fe-4f3c-89b7-f5100e8fc424"
   },
   "outputs": [
    {
     "data": {
      "image/png": "[encoded data removed]",
      "text/plain": [
       "<Figure size 432x288 with 1 Axes>"
      ]
     },
     "metadata": {},
     "output_type": "display_data"
    }
   ],
   "source": [
    "from matplotlib_venn import venn2\n",
    "import matplotlib.pyplot as plt\n",
    "\n",
    "# Calculate the number of unique words in ham and spam emails\n",
    "unique_ham_words = set(ham_words)\n",
    "unique_spam_words = set(spam_words)\n",
    "intersection_words = unique_ham_words.intersection(unique_spam_words)\n",
    "\n",
    "# Calculate the unique words exclusive to ham and spam emails\n",
    "unique_ham_exclusive = unique_ham_words - intersection_words\n",
    "unique_spam_exclusive = unique_spam_words - intersection_words\n",
    "\n",
    "# Create the Venn diagram\n",
    "venn2(subsets=(len(unique_ham_exclusive), len(unique_spam_exclusive), len(intersection_words)),\n",
    "      set_labels=('Ham Emails', 'Spam Emails'))\n",
    "\n",
    "# Set title\n",
    "plt.title('Unique Words in Spam and Ham Emails')\n",
    "\n",
    "# Show the plot\n",
    "plt.show()\n"
   ]
  },
  {
   "cell_type": "markdown",
   "id": "fe884246-2be0-4ae0-bfd6-753ebd692dd6",
   "metadata": {
    "id": "fe884246-2be0-4ae0-bfd6-753ebd692dd6"
   },
   "source": [
    "## Modeling"
   ]
  },
  {
   "cell_type": "markdown",
   "id": "c0b18755-49ee-4901-9783-eaa26d42cf29",
   "metadata": {
    "id": "c0b18755-49ee-4901-9783-eaa26d42cf29"
   },
   "source": [
    "Now we'll move on to the modeling phase. We'll build an initial model, and build from there to get the most accurate model we can find. Let's start with a fresh/clean dataset."
   ]
  },
  {
   "cell_type": "code",
   "execution_count": 16,
   "id": "c312fa73-eb79-403d-9453-bde79623962c",
   "metadata": {
    "id": "c312fa73-eb79-403d-9453-bde79623962c"
   },
   "outputs": [],
   "source": [
    "\n",
    "def load_data_from_directory(directory_path, sample_size_per_category=100):\n",
    "    files = os.listdir(directory_path)\n",
    "    contents = []\n",
    "    labels = []\n",
    "\n",
    "    spam_count = 0\n",
    "    legit_count = 0\n",
    "\n",
    "    for file in files:\n",
    "        if spam_count >= sample_size_per_category and legit_count >= sample_size_per_category:\n",
    "            break\n",
    "\n",
    "        file_path = os.path.join(directory_path, file)\n",
    "        content = load_text_file(file_path)\n",
    "\n",
    "        content = re.sub(r'Subject:.*\\n?', '', content, count=1)\n",
    "\n",
    "        if is_spam(file) and spam_count < sample_size_per_category:\n",
    "            contents.append(content)\n",
    "            labels.append(1)\n",
    "            spam_count += 1\n",
    "        elif not is_spam(file) and legit_count < sample_size_per_category:\n",
    "            contents.append(content)\n",
    "            labels.append(0)\n",
    "            legit_count += 1\n",
    "\n",
    "    return pd.DataFrame({'content': contents, 'label': labels})"
   ]
  },
  {
   "cell_type": "code",
   "execution_count": 17,
   "id": "73521c6b-9688-416e-8a14-b261bb0a7d2f",
   "metadata": {
    "id": "73521c6b-9688-416e-8a14-b261bb0a7d2f",
    "outputId": "c5d6e012-bdf6-41de-9416-dffe1ac471f3"
   },
   "outputs": [
    {
     "data": {
      "text/html": [
       "<div>\n",
       "<style scoped>\n",
       "    .dataframe tbody tr th:only-of-type {\n",
       "        vertical-align: middle;\n",
       "    }\n",
       "\n",
       "    .dataframe tbody tr th {\n",
       "        vertical-align: top;\n",
       "    }\n",
       "\n",
       "    .dataframe thead th {\n",
       "        text-align: right;\n",
       "    }\n",
       "</style>\n",
       "<table border=\"1\" class=\"dataframe\">\n",
       "  <thead>\n",
       "    <tr style=\"text-align: right;\">\n",
       "      <th></th>\n",
       "      <th>content</th>\n",
       "      <th>label</th>\n",
       "    </tr>\n",
       "  </thead>\n",
       "  <tbody>\n",
       "    <tr>\n",
       "      <th>0</th>\n",
       "      <td>\\n3677 22660 15981 9594 5573 2130 16502 22064 ...</td>\n",
       "      <td>0</td>\n",
       "    </tr>\n",
       "    <tr>\n",
       "      <th>1</th>\n",
       "      <td>\\n1791 13383 80 8962 2130 15184 17345 9131 217...</td>\n",
       "      <td>0</td>\n",
       "    </tr>\n",
       "    <tr>\n",
       "      <th>2</th>\n",
       "      <td>\\n1835 23758 17345 16531 16502 7634 17753 2040...</td>\n",
       "      <td>0</td>\n",
       "    </tr>\n",
       "    <tr>\n",
       "      <th>3</th>\n",
       "      <td>\\n22180 11245 14338 2649 13406 1124 47 47 47 4...</td>\n",
       "      <td>1</td>\n",
       "    </tr>\n",
       "    <tr>\n",
       "      <th>4</th>\n",
       "      <td>\\n82 82 82 82 82 82 82 82 82 82 82 82 82 82 82...</td>\n",
       "      <td>0</td>\n",
       "    </tr>\n",
       "  </tbody>\n",
       "</table>\n",
       "</div>"
      ],
      "text/plain": [
       "                                             content  label\n",
       "0  \\n3677 22660 15981 9594 5573 2130 16502 22064 ...      0\n",
       "1  \\n1791 13383 80 8962 2130 15184 17345 9131 217...      0\n",
       "2  \\n1835 23758 17345 16531 16502 7634 17753 2040...      0\n",
       "3  \\n22180 11245 14338 2649 13406 1124 47 47 47 4...      1\n",
       "4  \\n82 82 82 82 82 82 82 82 82 82 82 82 82 82 82...      0"
      ]
     },
     "execution_count": 17,
     "metadata": {},
     "output_type": "execute_result"
    }
   ],
   "source": [
    "# Loading a balanced sample dataset\n",
    "sample_data = load_data_from_directory(sample_corpus_path)\n",
    "sample_data.head()"
   ]
  },
  {
   "cell_type": "code",
   "execution_count": 18,
   "id": "89ae8bf6-8bb7-4b59-ba91-5d9ed27d0402",
   "metadata": {
    "id": "89ae8bf6-8bb7-4b59-ba91-5d9ed27d0402",
    "outputId": "7c2f545e-20b6-41b8-9a6f-f62f3b99118d"
   },
   "outputs": [
    {
     "data": {
      "text/plain": [
       "(109, 2)"
      ]
     },
     "execution_count": 18,
     "metadata": {},
     "output_type": "execute_result"
    }
   ],
   "source": [
    "sample_data.shape"
   ]
  },
  {
   "cell_type": "markdown",
   "id": "87446db3-f8bd-41b4-97fd-bfa9dd222548",
   "metadata": {
    "id": "87446db3-f8bd-41b4-97fd-bfa9dd222548"
   },
   "source": [
    "#### Splitting the dataframe into training and validation sets. Then convert into numpy arrays for tensorflow"
   ]
  },
  {
   "cell_type": "code",
   "execution_count": 19,
   "id": "709ed035-79d4-4ddd-898d-ad583b6efe33",
   "metadata": {
    "id": "709ed035-79d4-4ddd-898d-ad583b6efe33",
    "outputId": "922e4245-19e6-4a8b-a2e1-d60171924685"
   },
   "outputs": [
    {
     "name": "stderr",
     "output_type": "stream",
     "text": [
      "/var/folders/sq/sf7z67k14rz104b31mjqffpm0000gn/T/ipykernel_52849/3184755257.py:4: VisibleDeprecationWarning: Creating an ndarray from ragged nested sequences (which is a list-or-tuple of lists-or-tuples-or ndarrays with different lengths or shapes) is deprecated. If you meant to do this, you must specify 'dtype=object' when creating the ndarray.\n",
      "  X_train = np.array([np.fromstring(x, sep=' ') for x in X_train])\n",
      "/var/folders/sq/sf7z67k14rz104b31mjqffpm0000gn/T/ipykernel_52849/3184755257.py:5: VisibleDeprecationWarning: Creating an ndarray from ragged nested sequences (which is a list-or-tuple of lists-or-tuples-or ndarrays with different lengths or shapes) is deprecated. If you meant to do this, you must specify 'dtype=object' when creating the ndarray.\n",
      "  X_val = np.array([np.fromstring(x, sep=' ') for x in X_val])\n"
     ]
    },
    {
     "data": {
      "text/plain": [
       "((87,), (22,))"
      ]
     },
     "execution_count": 19,
     "metadata": {},
     "output_type": "execute_result"
    }
   ],
   "source": [
    "\n",
    "X_train, X_val, y_train, y_val = train_test_split(sample_data['content'], sample_data['label'], test_size=0.2, random_state=42)\n",
    "\n",
    "\n",
    "X_train = np.array([np.fromstring(x, sep=' ') for x in X_train])\n",
    "X_val = np.array([np.fromstring(x, sep=' ') for x in X_val])\n",
    "\n",
    "X_train.shape, X_val.shape"
   ]
  },
  {
   "cell_type": "markdown",
   "id": "1e20207b-5e29-4479-aeb6-888c2d437378",
   "metadata": {
    "id": "1e20207b-5e29-4479-aeb6-888c2d437378"
   },
   "source": [
    "#### Get the sequence lengths and find reasonable padding length"
   ]
  },
  {
   "cell_type": "code",
   "execution_count": 20,
   "id": "e4906caa-d842-4e5f-9e16-660b434522e5",
   "metadata": {
    "id": "e4906caa-d842-4e5f-9e16-660b434522e5",
    "outputId": "77c00ab9-954e-4790-f72b-79779dae0bd6"
   },
   "outputs": [
    {
     "data": {
      "text/plain": [
       "{'mean': 920.183486238532,\n",
       " 'median': 453.0,\n",
       " 'max': 12862,\n",
       " 'min': 10,\n",
       " 'std': 1596.6688153096563}"
      ]
     },
     "execution_count": 20,
     "metadata": {},
     "output_type": "execute_result"
    }
   ],
   "source": [
    "'''\n",
    "Getting the sequence lengths then figuring out a reasonable padding length\n",
    "I'm printing out the basic stats to help figure it out.\n",
    "\n",
    "'''\n",
    "\n",
    "sequence_lengths = [len(np.fromstring(x, sep=' ')) for x in sample_data['content']]\n",
    "\n",
    "sequence_length_stats = {\n",
    "    'mean': np.mean(sequence_lengths),\n",
    "    'median': np.median(sequence_lengths),\n",
    "    'max': np.max(sequence_lengths),\n",
    "    'min': np.min(sequence_lengths),\n",
    "    'std': np.std(sequence_lengths)\n",
    "}\n",
    "\n",
    "sequence_length_stats"
   ]
  },
  {
   "cell_type": "markdown",
   "id": "938124a5-adc6-4a6a-a1e5-ba2635b24b15",
   "metadata": {
    "id": "938124a5-adc6-4a6a-a1e5-ba2635b24b15"
   },
   "source": [
    "#### Set the sequence lengths to 500, just slightly above the median"
   ]
  },
  {
   "cell_type": "code",
   "execution_count": 21,
   "id": "a71e91c6-b366-4cfa-ab55-b5ca557d886e",
   "metadata": {
    "id": "a71e91c6-b366-4cfa-ab55-b5ca557d886e",
    "outputId": "09c647d4-beae-42fe-cc66-79175e7eb745"
   },
   "outputs": [
    {
     "data": {
      "text/plain": [
       "((87, 500), (22, 500))"
      ]
     },
     "execution_count": 21,
     "metadata": {},
     "output_type": "execute_result"
    }
   ],
   "source": [
    "\n",
    "sequence_length = 500\n",
    "\n",
    "X_train_padded = pad_sequences(X_train, maxlen=sequence_length, padding='post', truncating='post')\n",
    "X_val_padded = pad_sequences(X_val, maxlen=sequence_length, padding='post', truncating='post')\n",
    "\n",
    "X_train_padded.shape, X_val_padded.shape"
   ]
  },
  {
   "cell_type": "markdown",
   "id": "14bcd4c2-3088-4e7e-a2f4-d2949e749d1f",
   "metadata": {
    "id": "14bcd4c2-3088-4e7e-a2f4-d2949e749d1f"
   },
   "source": [
    "#### Here are the model parameters. We're adjusting this based on the dataset's vocabulary and the size of the vectors"
   ]
  },
  {
   "cell_type": "code",
   "execution_count": 22,
   "id": "d40bb1e2-1bb2-4fc0-8cb1-51e1196a8167",
   "metadata": {
    "id": "d40bb1e2-1bb2-4fc0-8cb1-51e1196a8167",
    "outputId": "a750ab70-4b4f-4a35-88c7-d32d5e20394a"
   },
   "outputs": [
    {
     "name": "stderr",
     "output_type": "stream",
     "text": [
      "/Library/Frameworks/Python.framework/Versions/3.10/lib/python3.10/site-packages/keras/src/layers/core/embedding.py:81: UserWarning: Do not pass an `input_shape`/`input_dim` argument to a layer. When using Sequential models, prefer using an `Input(shape)` object as the first layer in the model instead.\n",
      "  super().__init__(**kwargs)\n"
     ]
    },
    {
     "data": {
      "text/html": [
       "<pre style=\"white-space:pre;overflow-x:auto;line-height:normal;font-family:Menlo,'DejaVu Sans Mono',consolas,'Courier New',monospace\"><span style=\"font-weight: bold\">Model: \"sequential\"</span>\n",
       "</pre>\n"
      ],
      "text/plain": [
       "\u001b[1mModel: \"sequential\"\u001b[0m\n"
      ]
     },
     "metadata": {},
     "output_type": "display_data"
    },
    {
     "data": {
      "text/html": [
       "<pre style=\"white-space:pre;overflow-x:auto;line-height:normal;font-family:Menlo,'DejaVu Sans Mono',consolas,'Courier New',monospace\">┏━━━━━━━━━━━━━━━━━━━━━━━━━━━━━━━━━┳━━━━━━━━━━━━━━━━━━━━━━━━┳━━━━━━━━━━━━━━━┓\n",
       "┃<span style=\"font-weight: bold\"> Layer (type)                    </span>┃<span style=\"font-weight: bold\"> Output Shape           </span>┃<span style=\"font-weight: bold\">       Param # </span>┃\n",
       "┡━━━━━━━━━━━━━━━━━━━━━━━━━━━━━━━━━╇━━━━━━━━━━━━━━━━━━━━━━━━╇━━━━━━━━━━━━━━━┩\n",
       "│ embedding (<span style=\"color: #0087ff; text-decoration-color: #0087ff\">Embedding</span>)           │ (<span style=\"color: #00d7ff; text-decoration-color: #00d7ff\">None</span>, <span style=\"color: #00af00; text-decoration-color: #00af00\">500</span>, <span style=\"color: #00af00; text-decoration-color: #00af00\">64</span>)        │     <span style=\"color: #00af00; text-decoration-color: #00af00\">1,280,000</span> │\n",
       "├─────────────────────────────────┼────────────────────────┼───────────────┤\n",
       "│ lstm (<span style=\"color: #0087ff; text-decoration-color: #0087ff\">LSTM</span>)                     │ (<span style=\"color: #00d7ff; text-decoration-color: #00d7ff\">None</span>, <span style=\"color: #00af00; text-decoration-color: #00af00\">64</span>)             │        <span style=\"color: #00af00; text-decoration-color: #00af00\">33,024</span> │\n",
       "├─────────────────────────────────┼────────────────────────┼───────────────┤\n",
       "│ dense (<span style=\"color: #0087ff; text-decoration-color: #0087ff\">Dense</span>)                   │ (<span style=\"color: #00d7ff; text-decoration-color: #00d7ff\">None</span>, <span style=\"color: #00af00; text-decoration-color: #00af00\">1</span>)              │            <span style=\"color: #00af00; text-decoration-color: #00af00\">65</span> │\n",
       "└─────────────────────────────────┴────────────────────────┴───────────────┘\n",
       "</pre>\n"
      ],
      "text/plain": [
       "┏━━━━━━━━━━━━━━━━━━━━━━━━━━━━━━━━━┳━━━━━━━━━━━━━━━━━━━━━━━━┳━━━━━━━━━━━━━━━┓\n",
       "┃\u001b[1m \u001b[0m\u001b[1mLayer (type)                   \u001b[0m\u001b[1m \u001b[0m┃\u001b[1m \u001b[0m\u001b[1mOutput Shape          \u001b[0m\u001b[1m \u001b[0m┃\u001b[1m \u001b[0m\u001b[1m      Param #\u001b[0m\u001b[1m \u001b[0m┃\n",
       "┡━━━━━━━━━━━━━━━━━━━━━━━━━━━━━━━━━╇━━━━━━━━━━━━━━━━━━━━━━━━╇━━━━━━━━━━━━━━━┩\n",
       "│ embedding (\u001b[38;5;33mEmbedding\u001b[0m)           │ (\u001b[38;5;45mNone\u001b[0m, \u001b[38;5;34m500\u001b[0m, \u001b[38;5;34m64\u001b[0m)        │     \u001b[38;5;34m1,280,000\u001b[0m │\n",
       "├─────────────────────────────────┼────────────────────────┼───────────────┤\n",
       "│ lstm (\u001b[38;5;33mLSTM\u001b[0m)                     │ (\u001b[38;5;45mNone\u001b[0m, \u001b[38;5;34m64\u001b[0m)             │        \u001b[38;5;34m33,024\u001b[0m │\n",
       "├─────────────────────────────────┼────────────────────────┼───────────────┤\n",
       "│ dense (\u001b[38;5;33mDense\u001b[0m)                   │ (\u001b[38;5;45mNone\u001b[0m, \u001b[38;5;34m1\u001b[0m)              │            \u001b[38;5;34m65\u001b[0m │\n",
       "└─────────────────────────────────┴────────────────────────┴───────────────┘\n"
      ]
     },
     "metadata": {},
     "output_type": "display_data"
    },
    {
     "data": {
      "text/html": [
       "<pre style=\"white-space:pre;overflow-x:auto;line-height:normal;font-family:Menlo,'DejaVu Sans Mono',consolas,'Courier New',monospace\"><span style=\"font-weight: bold\"> Total params: </span><span style=\"color: #00af00; text-decoration-color: #00af00\">1,313,089</span> (5.01 MB)\n",
       "</pre>\n"
      ],
      "text/plain": [
       "\u001b[1m Total params: \u001b[0m\u001b[38;5;34m1,313,089\u001b[0m (5.01 MB)\n"
      ]
     },
     "metadata": {},
     "output_type": "display_data"
    },
    {
     "data": {
      "text/html": [
       "<pre style=\"white-space:pre;overflow-x:auto;line-height:normal;font-family:Menlo,'DejaVu Sans Mono',consolas,'Courier New',monospace\"><span style=\"font-weight: bold\"> Trainable params: </span><span style=\"color: #00af00; text-decoration-color: #00af00\">1,313,089</span> (5.01 MB)\n",
       "</pre>\n"
      ],
      "text/plain": [
       "\u001b[1m Trainable params: \u001b[0m\u001b[38;5;34m1,313,089\u001b[0m (5.01 MB)\n"
      ]
     },
     "metadata": {},
     "output_type": "display_data"
    },
    {
     "data": {
      "text/html": [
       "<pre style=\"white-space:pre;overflow-x:auto;line-height:normal;font-family:Menlo,'DejaVu Sans Mono',consolas,'Courier New',monospace\"><span style=\"font-weight: bold\"> Non-trainable params: </span><span style=\"color: #00af00; text-decoration-color: #00af00\">0</span> (0.00 B)\n",
       "</pre>\n"
      ],
      "text/plain": [
       "\u001b[1m Non-trainable params: \u001b[0m\u001b[38;5;34m0\u001b[0m (0.00 B)\n"
      ]
     },
     "metadata": {},
     "output_type": "display_data"
    }
   ],
   "source": [
    "'''\n",
    "Here are the model parameters\n",
    "I am adjusting this based on the\n",
    "dataset's vocabulary and\n",
    "the size of the vectors.\n",
    "\n",
    "'''\n",
    "\n",
    "vocab_size = 20000\n",
    "embedding_dim = 64\n",
    "\n",
    "model = Sequential([\n",
    "    Embedding(input_dim=vocab_size, output_dim=embedding_dim, input_shape=(sequence_length,)),\n",
    "    LSTM(64, return_sequences=False),\n",
    "    Dense(1, activation='sigmoid')\n",
    "])\n",
    "\n",
    "model.compile(optimizer='adam', loss='binary_crossentropy', metrics=['accuracy'])\n",
    "\n",
    "model.summary()"
   ]
  },
  {
   "cell_type": "markdown",
   "id": "33b9ee46-fdab-462c-928c-3e5a10e1e250",
   "metadata": {
    "id": "33b9ee46-fdab-462c-928c-3e5a10e1e250"
   },
   "source": [
    "#### Training the model on padded data"
   ]
  },
  {
   "cell_type": "code",
   "execution_count": 23,
   "id": "4ce80eeb-123d-4172-b810-63614e47770e",
   "metadata": {
    "id": "4ce80eeb-123d-4172-b810-63614e47770e",
    "outputId": "99c88e32-dd2d-4100-fd6e-81454484ea1d"
   },
   "outputs": [
    {
     "name": "stdout",
     "output_type": "stream",
     "text": [
      "Epoch 1/10\n",
      "\u001b[1m3/3\u001b[0m \u001b[32m━━━━━━━━━━━━━━━━━━━━\u001b[0m\u001b[37m\u001b[0m \u001b[1m1s\u001b[0m 162ms/step - accuracy: 0.4273 - loss: 0.6940 - val_accuracy: 0.5909 - val_loss: 0.6902\n",
      "Epoch 2/10\n",
      "\u001b[1m3/3\u001b[0m \u001b[32m━━━━━━━━━━━━━━━━━━━━\u001b[0m\u001b[37m\u001b[0m \u001b[1m0s\u001b[0m 119ms/step - accuracy: 0.6690 - loss: 0.6894 - val_accuracy: 0.6364 - val_loss: 0.6882\n",
      "Epoch 3/10\n",
      "\u001b[1m3/3\u001b[0m \u001b[32m━━━━━━━━━━━━━━━━━━━━\u001b[0m\u001b[37m\u001b[0m \u001b[1m0s\u001b[0m 130ms/step - accuracy: 0.6637 - loss: 0.6829 - val_accuracy: 0.6364 - val_loss: 0.6837\n",
      "Epoch 4/10\n",
      "\u001b[1m3/3\u001b[0m \u001b[32m━━━━━━━━━━━━━━━━━━━━\u001b[0m\u001b[37m\u001b[0m \u001b[1m0s\u001b[0m 119ms/step - accuracy: 0.6150 - loss: 0.6755 - val_accuracy: 0.6364 - val_loss: 0.6781\n",
      "Epoch 5/10\n",
      "\u001b[1m3/3\u001b[0m \u001b[32m━━━━━━━━━━━━━━━━━━━━\u001b[0m\u001b[37m\u001b[0m \u001b[1m0s\u001b[0m 123ms/step - accuracy: 0.5916 - loss: 0.6675 - val_accuracy: 0.6364 - val_loss: 0.6707\n",
      "Epoch 6/10\n",
      "\u001b[1m3/3\u001b[0m \u001b[32m━━━━━━━━━━━━━━━━━━━━\u001b[0m\u001b[37m\u001b[0m \u001b[1m0s\u001b[0m 120ms/step - accuracy: 0.6637 - loss: 0.6376 - val_accuracy: 0.6364 - val_loss: 0.6579\n",
      "Epoch 7/10\n",
      "\u001b[1m3/3\u001b[0m \u001b[32m━━━━━━━━━━━━━━━━━━━━\u001b[0m\u001b[37m\u001b[0m \u001b[1m0s\u001b[0m 118ms/step - accuracy: 0.7003 - loss: 0.6034 - val_accuracy: 0.6364 - val_loss: 0.6530\n",
      "Epoch 8/10\n",
      "\u001b[1m3/3\u001b[0m \u001b[32m━━━━━━━━━━━━━━━━━━━━\u001b[0m\u001b[37m\u001b[0m \u001b[1m0s\u001b[0m 120ms/step - accuracy: 0.7139 - loss: 0.5384 - val_accuracy: 0.4545 - val_loss: 0.6905\n",
      "Epoch 9/10\n",
      "\u001b[1m3/3\u001b[0m \u001b[32m━━━━━━━━━━━━━━━━━━━━\u001b[0m\u001b[37m\u001b[0m \u001b[1m0s\u001b[0m 119ms/step - accuracy: 0.7525 - loss: 0.5235 - val_accuracy: 0.4545 - val_loss: 0.6884\n",
      "Epoch 10/10\n",
      "\u001b[1m3/3\u001b[0m \u001b[32m━━━━━━━━━━━━━━━━━━━━\u001b[0m\u001b[37m\u001b[0m \u001b[1m0s\u001b[0m 120ms/step - accuracy: 0.7251 - loss: 0.5073 - val_accuracy: 0.4545 - val_loss: 0.6643\n"
     ]
    }
   ],
   "source": [
    "\n",
    "history = model.fit(X_train_padded, y_train, epochs=10, validation_data=(X_val_padded, y_val))"
   ]
  },
  {
   "cell_type": "markdown",
   "id": "6fa8900d-d498-4610-a2c5-da5bbad41bdf",
   "metadata": {
    "id": "6fa8900d-d498-4610-a2c5-da5bbad41bdf"
   },
   "source": [
    "#### Evaluating the model"
   ]
  },
  {
   "cell_type": "code",
   "execution_count": 24,
   "id": "790d60e7-3cea-40a4-a26a-1f56d40307aa",
   "metadata": {
    "id": "790d60e7-3cea-40a4-a26a-1f56d40307aa"
   },
   "outputs": [
    {
     "name": "stdout",
     "output_type": "stream",
     "text": [
      "\u001b[1m1/1\u001b[0m \u001b[32m━━━━━━━━━━━━━━━━━━━━\u001b[0m\u001b[37m\u001b[0m \u001b[1m0s\u001b[0m 31ms/step - accuracy: 0.4545 - loss: 0.6643\n",
      "Validation Accuracy: 45.45%\n"
     ]
    }
   ],
   "source": [
    "loss, accuracy = model.evaluate(X_val_padded, y_val)\n",
    "print(f\"Validation Accuracy: {accuracy*100:.2f}%\")"
   ]
  },
  {
   "cell_type": "markdown",
   "id": "55673706-1d10-4bdf-8d72-4930cfb68f76",
   "metadata": {
    "id": "55673706-1d10-4bdf-8d72-4930cfb68f76"
   },
   "source": [
    "The model above just a sample of the data. There really isn't enough data to build a reasonable model by just using a sample. So, now we will use the entire dataset."
   ]
  },
  {
   "cell_type": "markdown",
   "id": "42fb476c-3f01-4420-8f1a-b9efcee10987",
   "metadata": {
    "id": "42fb476c-3f01-4420-8f1a-b9efcee10987"
   },
   "source": [
    "#### This is a function written in order to load all of the data within the dataset instead of just a sample."
   ]
  },
  {
   "cell_type": "code",
   "execution_count": 25,
   "id": "bfaa3d28-41b6-4294-af4e-e59d4466ff69",
   "metadata": {
    "id": "bfaa3d28-41b6-4294-af4e-e59d4466ff69",
    "outputId": "fbb26173-33a0-4d92-9c1a-f26812ca94a9"
   },
   "outputs": [
    {
     "data": {
      "text/plain": [
       "(                                             content  label\n",
       " 0  \\n284 6818 80 284 13383 80 127 93 84 489 18798...      0\n",
       " 1  \\n16502 21946 7634 16893 15149 1613 16538 80 1...      0\n",
       " 2  \\n14338 7488 2221 20439 103 80 12116 18469 187...      0\n",
       " 3  \\n4822 80 16502 2410 1967 180 262 1847 12146 1...      1\n",
       " 4  \\n478 17188 130 20259 12808 80 196 17054 1812 ...      1,\n",
       " (7101, 2))"
      ]
     },
     "execution_count": 25,
     "metadata": {},
     "output_type": "execute_result"
    }
   ],
   "source": [
    "'''\n",
    "This is a function written in order to\n",
    "load all of the data within my dataset\n",
    "instead of just a sample\n",
    "'''\n",
    "\n",
    "def load_all_data(directory_path):\n",
    "    all_contents = []\n",
    "    all_labels = []\n",
    "\n",
    "    for corpus_dir in ['pu1', 'pu2', 'pu3', 'pua']:\n",
    "        corpus_path = os.path.join(directory_path, corpus_dir)\n",
    "\n",
    "        for part in os.listdir(corpus_path):\n",
    "            part_path = os.path.join(corpus_path, part)\n",
    "\n",
    "            if not os.path.isdir(part_path):\n",
    "                continue\n",
    "\n",
    "            for file in os.listdir(part_path):\n",
    "                file_path = os.path.join(part_path, file)\n",
    "                content = load_text_file(file_path)\n",
    "\n",
    "                content = re.sub(r'Subject:.*\\n?', '', content, count=1)\n",
    "\n",
    "                all_contents.append(content)\n",
    "                all_labels.append(1 if 'spmsg' in file else 0)\n",
    "\n",
    "\n",
    "    return pd.DataFrame({'content': all_contents, 'label': all_labels})\n",
    "\n",
    "\n",
    "entire_dataset = load_all_data(subdirectory_path)\n",
    "entire_dataset.head(), entire_dataset.shape"
   ]
  },
  {
   "cell_type": "code",
   "execution_count": 26,
   "id": "f8923206-762b-449a-a683-1902872d246b",
   "metadata": {
    "id": "f8923206-762b-449a-a683-1902872d246b",
    "outputId": "7ef9b7ce-eb8d-4895-9928-15fa1df9b5f4"
   },
   "outputs": [
    {
     "name": "stderr",
     "output_type": "stream",
     "text": [
      "/var/folders/sq/sf7z67k14rz104b31mjqffpm0000gn/T/ipykernel_52849/2497282042.py:3: VisibleDeprecationWarning: Creating an ndarray from ragged nested sequences (which is a list-or-tuple of lists-or-tuples-or ndarrays with different lengths or shapes) is deprecated. If you meant to do this, you must specify 'dtype=object' when creating the ndarray.\n",
      "  X = np.array([np.fromstring(text, sep=' ') for text in entire_dataset['content']])\n"
     ]
    }
   ],
   "source": [
    "\n",
    "# Building the numpy arrays for the entire dataset\n",
    "\n",
    "X = np.array([np.fromstring(text, sep=' ') for text in entire_dataset['content']])\n",
    "y = entire_dataset['label'].values"
   ]
  },
  {
   "cell_type": "code",
   "execution_count": 27,
   "id": "4c3f7560-6969-4abc-9746-4f79edc4f19e",
   "metadata": {
    "id": "4c3f7560-6969-4abc-9746-4f79edc4f19e",
    "outputId": "035c5bca-94ea-437f-a172-f49ecd3cccb4"
   },
   "outputs": [
    {
     "data": {
      "text/plain": [
       "{'mean': 673.6744120546402,\n",
       " 'median': 290.0,\n",
       " 'max': 134874,\n",
       " 'min': 1,\n",
       " 'std': 2313.5984150545423}"
      ]
     },
     "execution_count": 27,
     "metadata": {},
     "output_type": "execute_result"
    }
   ],
   "source": [
    "sequence_lengths = [len(np.fromstring(x, sep=' ')) for x in entire_dataset['content']]\n",
    "\n",
    "sequence_length_stats = {\n",
    "    'mean': np.mean(sequence_lengths),\n",
    "    'median': np.median(sequence_lengths),\n",
    "    'max': np.max(sequence_lengths),\n",
    "    'min': np.min(sequence_lengths),\n",
    "    'std': np.std(sequence_lengths)\n",
    "}\n",
    "\n",
    "sequence_length_stats"
   ]
  },
  {
   "cell_type": "markdown",
   "id": "7ece2f70-acb2-48d9-a61e-40e2ef31d010",
   "metadata": {
    "id": "7ece2f70-acb2-48d9-a61e-40e2ef31d010"
   },
   "source": [
    "#### Using padding the ensure uniform length. Using 300, since that is slightly above the median"
   ]
  },
  {
   "cell_type": "code",
   "execution_count": 28,
   "id": "35e557ea-76f2-418b-947b-e04d4a60dd19",
   "metadata": {
    "id": "35e557ea-76f2-418b-947b-e04d4a60dd19",
    "outputId": "6f040044-391a-44a7-d5f6-862f0e95f222"
   },
   "outputs": [],
   "source": [
    "\n",
    "sequence_length = 300\n",
    "X_padded = pad_sequences(X, maxlen=sequence_length, padding='post', truncating='post')"
   ]
  },
  {
   "cell_type": "markdown",
   "id": "27bda5b3-b42b-4932-8e5f-842601ef594f",
   "metadata": {
    "id": "27bda5b3-b42b-4932-8e5f-842601ef594f"
   },
   "source": [
    "#### Build the test and train sets"
   ]
  },
  {
   "cell_type": "code",
   "execution_count": 29,
   "id": "9574b425-2e35-4de4-aa14-95af59312927",
   "metadata": {
    "id": "9574b425-2e35-4de4-aa14-95af59312927",
    "outputId": "1684936f-619d-4645-efca-47055d3af4a3"
   },
   "outputs": [],
   "source": [
    "X_train, X_val, y_train, y_val = train_test_split(X_padded, y, test_size=0.2, random_state=42)"
   ]
  },
  {
   "cell_type": "markdown",
   "id": "8fddc0e0-b826-4729-b959-8998dd54e8e4",
   "metadata": {
    "id": "8fddc0e0-b826-4729-b959-8998dd54e8e4"
   },
   "source": [
    "#### Building the model"
   ]
  },
  {
   "cell_type": "code",
   "execution_count": 30,
   "id": "cd1eb2c3-bca7-45b9-8f2f-84fb21216434",
   "metadata": {
    "id": "cd1eb2c3-bca7-45b9-8f2f-84fb21216434",
    "outputId": "eef50a65-c080-4bf2-a0e7-3a5559cc7e70"
   },
   "outputs": [
    {
     "name": "stdout",
     "output_type": "stream",
     "text": [
      "Epoch 1/10\n"
     ]
    },
    {
     "name": "stderr",
     "output_type": "stream",
     "text": [
      "/Library/Frameworks/Python.framework/Versions/3.10/lib/python3.10/site-packages/keras/src/layers/core/embedding.py:81: UserWarning: Do not pass an `input_shape`/`input_dim` argument to a layer. When using Sequential models, prefer using an `Input(shape)` object as the first layer in the model instead.\n",
      "  super().__init__(**kwargs)\n"
     ]
    },
    {
     "name": "stdout",
     "output_type": "stream",
     "text": [
      "\u001b[1m178/178\u001b[0m \u001b[32m━━━━━━━━━━━━━━━━━━━━\u001b[0m\u001b[37m\u001b[0m \u001b[1m13s\u001b[0m 71ms/step - accuracy: 0.6152 - loss: 0.6399 - val_accuracy: 0.8163 - val_loss: 0.4497\n",
      "Epoch 2/10\n",
      "\u001b[1m178/178\u001b[0m \u001b[32m━━━━━━━━━━━━━━━━━━━━\u001b[0m\u001b[37m\u001b[0m \u001b[1m13s\u001b[0m 71ms/step - accuracy: 0.8214 - loss: 0.4468 - val_accuracy: 0.8529 - val_loss: 0.4116\n",
      "Epoch 3/10\n",
      "\u001b[1m178/178\u001b[0m \u001b[32m━━━━━━━━━━━━━━━━━━━━\u001b[0m\u001b[37m\u001b[0m \u001b[1m13s\u001b[0m 70ms/step - accuracy: 0.8555 - loss: 0.3811 - val_accuracy: 0.8649 - val_loss: 0.3669\n",
      "Epoch 4/10\n",
      "\u001b[1m178/178\u001b[0m \u001b[32m━━━━━━━━━━━━━━━━━━━━\u001b[0m\u001b[37m\u001b[0m \u001b[1m13s\u001b[0m 74ms/step - accuracy: 0.8883 - loss: 0.3084 - val_accuracy: 0.8635 - val_loss: 0.4593\n",
      "Epoch 5/10\n",
      "\u001b[1m178/178\u001b[0m \u001b[32m━━━━━━━━━━━━━━━━━━━━\u001b[0m\u001b[37m\u001b[0m \u001b[1m14s\u001b[0m 78ms/step - accuracy: 0.7421 - loss: 0.5676 - val_accuracy: 0.7241 - val_loss: 0.5174\n",
      "Epoch 6/10\n",
      "\u001b[1m178/178\u001b[0m \u001b[32m━━━━━━━━━━━━━━━━━━━━\u001b[0m\u001b[37m\u001b[0m \u001b[1m13s\u001b[0m 73ms/step - accuracy: 0.7584 - loss: 0.4466 - val_accuracy: 0.7101 - val_loss: 0.5317\n",
      "Epoch 7/10\n",
      "\u001b[1m178/178\u001b[0m \u001b[32m━━━━━━━━━━━━━━━━━━━━\u001b[0m\u001b[37m\u001b[0m \u001b[1m13s\u001b[0m 71ms/step - accuracy: 0.7655 - loss: 0.4079 - val_accuracy: 0.7185 - val_loss: 0.4979\n",
      "Epoch 8/10\n",
      "\u001b[1m178/178\u001b[0m \u001b[32m━━━━━━━━━━━━━━━━━━━━\u001b[0m\u001b[37m\u001b[0m \u001b[1m13s\u001b[0m 74ms/step - accuracy: 0.7623 - loss: 0.3806 - val_accuracy: 0.6988 - val_loss: 0.6153\n",
      "Epoch 9/10\n",
      "\u001b[1m178/178\u001b[0m \u001b[32m━━━━━━━━━━━━━━━━━━━━\u001b[0m\u001b[37m\u001b[0m \u001b[1m13s\u001b[0m 72ms/step - accuracy: 0.7568 - loss: 0.4238 - val_accuracy: 0.8888 - val_loss: 0.4176\n",
      "Epoch 10/10\n",
      "\u001b[1m178/178\u001b[0m \u001b[32m━━━━━━━━━━━━━━━━━━━━\u001b[0m\u001b[37m\u001b[0m \u001b[1m13s\u001b[0m 72ms/step - accuracy: 0.9016 - loss: 0.2879 - val_accuracy: 0.8698 - val_loss: 0.3724\n"
     ]
    }
   ],
   "source": [
    "\n",
    "model = Sequential([\n",
    "    Embedding(input_dim=20000, output_dim=64, input_shape=(sequence_length,)),  # Adjust 'input_dim' as necessary\n",
    "    LSTM(64, return_sequences=False),\n",
    "    Dense(1, activation='sigmoid')\n",
    "])\n",
    "\n",
    "model.compile(optimizer='adam', loss='binary_crossentropy', metrics=['accuracy'])\n",
    "history = model.fit(X_train, y_train, epochs=10, validation_data=(X_val, y_val))"
   ]
  },
  {
   "cell_type": "code",
   "execution_count": 31,
   "id": "e9c7919e-90fb-426b-8ccc-d4992430c594",
   "metadata": {
    "id": "e9c7919e-90fb-426b-8ccc-d4992430c594",
    "outputId": "24cbc82e-048a-4f2e-bd4d-c80b930f0f8a"
   },
   "outputs": [
    {
     "name": "stdout",
     "output_type": "stream",
     "text": [
      "\u001b[1m45/45\u001b[0m \u001b[32m━━━━━━━━━━━━━━━━━━━━\u001b[0m\u001b[37m\u001b[0m \u001b[1m1s\u001b[0m 17ms/step - accuracy: 0.8817 - loss: 0.3609\n",
      "Validation Accuracy: 86.98%\n"
     ]
    }
   ],
   "source": [
    "loss, accuracy = model.evaluate(X_val, y_val)\n",
    "print(f\"Validation Accuracy: {accuracy*100:.2f}%\")"
   ]
  },
  {
   "cell_type": "markdown",
   "id": "3ee31b15-ec27-4b95-bd1e-8208146ae672",
   "metadata": {
    "id": "3ee31b15-ec27-4b95-bd1e-8208146ae672"
   },
   "source": [
    "### Interpretation and next steps"
   ]
  },
  {
   "cell_type": "markdown",
   "id": "c184a923-e3d1-404d-9e02-8a017a2604d2",
   "metadata": {
    "id": "c184a923-e3d1-404d-9e02-8a017a2604d2"
   },
   "source": [
    "MThe model is showing initial strong performance. We can see this by the high accuracy and low loss on the validation set.\n",
    "\n",
    "Something we need to be careful about is potential overfitting. The model might perform better on the training data than on the validation data. We can add some techniques like dropout layers to detect this.\n",
    "\n",
    "We'll try some optimization techniques now. The lowest hanging fruit here is Early Stopping."
   ]
  },
  {
   "cell_type": "markdown",
   "id": "ecd9fde8-da28-4bc3-8d76-90cc9db2ffd4",
   "metadata": {
    "id": "ecd9fde8-da28-4bc3-8d76-90cc9db2ffd4"
   },
   "source": [
    "#### Implementing early stopping"
   ]
  },
  {
   "cell_type": "code",
   "execution_count": 32,
   "id": "13047a05-db1b-4c77-b78b-d71bc375f1a8",
   "metadata": {
    "id": "13047a05-db1b-4c77-b78b-d71bc375f1a8"
   },
   "outputs": [
    {
     "name": "stdout",
     "output_type": "stream",
     "text": [
      "Epoch 1/10\n",
      "\u001b[1m178/178\u001b[0m \u001b[32m━━━━━━━━━━━━━━━━━━━━\u001b[0m\u001b[37m\u001b[0m \u001b[1m13s\u001b[0m 70ms/step - accuracy: 0.9341 - loss: 0.2056 - val_accuracy: 0.9205 - val_loss: 0.2427\n",
      "Epoch 2/10\n",
      "\u001b[1m178/178\u001b[0m \u001b[32m━━━━━━━━━━━━━━━━━━━━\u001b[0m\u001b[37m\u001b[0m \u001b[1m13s\u001b[0m 71ms/step - accuracy: 0.9599 - loss: 0.1198 - val_accuracy: 0.9226 - val_loss: 0.2133\n",
      "Epoch 3/10\n",
      "\u001b[1m178/178\u001b[0m \u001b[32m━━━━━━━━━━━━━━━━━━━━\u001b[0m\u001b[37m\u001b[0m \u001b[1m14s\u001b[0m 76ms/step - accuracy: 0.9752 - loss: 0.0822 - val_accuracy: 0.9254 - val_loss: 0.2188\n",
      "Epoch 4/10\n",
      "\u001b[1m178/178\u001b[0m \u001b[32m━━━━━━━━━━━━━━━━━━━━\u001b[0m\u001b[37m\u001b[0m \u001b[1m14s\u001b[0m 80ms/step - accuracy: 0.9822 - loss: 0.0628 - val_accuracy: 0.9451 - val_loss: 0.1943\n",
      "Epoch 5/10\n",
      "\u001b[1m178/178\u001b[0m \u001b[32m━━━━━━━━━━━━━━━━━━━━\u001b[0m\u001b[37m\u001b[0m \u001b[1m13s\u001b[0m 75ms/step - accuracy: 0.9894 - loss: 0.0394 - val_accuracy: 0.9416 - val_loss: 0.1866\n",
      "Epoch 6/10\n",
      "\u001b[1m178/178\u001b[0m \u001b[32m━━━━━━━━━━━━━━━━━━━━\u001b[0m\u001b[37m\u001b[0m \u001b[1m14s\u001b[0m 79ms/step - accuracy: 0.9936 - loss: 0.0266 - val_accuracy: 0.9458 - val_loss: 0.1810\n",
      "Epoch 7/10\n",
      "\u001b[1m178/178\u001b[0m \u001b[32m━━━━━━━━━━━━━━━━━━━━\u001b[0m\u001b[37m\u001b[0m \u001b[1m13s\u001b[0m 72ms/step - accuracy: 0.9964 - loss: 0.0197 - val_accuracy: 0.9430 - val_loss: 0.2243\n",
      "Epoch 8/10\n",
      "\u001b[1m178/178\u001b[0m \u001b[32m━━━━━━━━━━━━━━━━━━━━\u001b[0m\u001b[37m\u001b[0m \u001b[1m13s\u001b[0m 75ms/step - accuracy: 0.9960 - loss: 0.0234 - val_accuracy: 0.9465 - val_loss: 0.2175\n",
      "Epoch 9/10\n",
      "\u001b[1m178/178\u001b[0m \u001b[32m━━━━━━━━━━━━━━━━━━━━\u001b[0m\u001b[37m\u001b[0m \u001b[1m13s\u001b[0m 75ms/step - accuracy: 0.9970 - loss: 0.0166 - val_accuracy: 0.9479 - val_loss: 0.2064\n",
      "Epoch 9: early stopping\n",
      "Restoring model weights from the end of the best epoch: 6.\n"
     ]
    }
   ],
   "source": [
    "\n",
    "early_stopping_callback = EarlyStopping(monitor='val_loss', patience=3, verbose=1, restore_best_weights=True)\n",
    "\n",
    "history = model.fit(X_train, y_train, epochs=10, validation_data=(X_val, y_val), callbacks=[early_stopping_callback])"
   ]
  },
  {
   "cell_type": "markdown",
   "id": "8b521266-54b6-4d1f-877c-aace4a614f59",
   "metadata": {
    "id": "8b521266-54b6-4d1f-877c-aace4a614f59"
   },
   "source": [
    "Really interesting here. We have a low amount of Epochs (10) but we are not even hitting ten iterations of the model. There is a low patience parameter (3) but I think adjusting Epoch/Patience is not the best move here. We are going to implement something a little different. Let's try a regularization method to solve the problem of overfitting that we are finding here."
   ]
  },
  {
   "cell_type": "markdown",
   "id": "f481def6-df69-44da-b4a8-a2efaadb681b",
   "metadata": {
    "id": "f481def6-df69-44da-b4a8-a2efaadb681b"
   },
   "source": [
    "#### Model without dropout"
   ]
  },
  {
   "cell_type": "code",
   "execution_count": 33,
   "id": "30291f06-8f02-43c8-8fd4-08e3bc280f37",
   "metadata": {
    "id": "30291f06-8f02-43c8-8fd4-08e3bc280f37",
    "outputId": "6d6ed6be-ffff-475f-da61-5579c495c8db"
   },
   "outputs": [
    {
     "data": {
      "text/html": [
       "<pre style=\"white-space:pre;overflow-x:auto;line-height:normal;font-family:Menlo,'DejaVu Sans Mono',consolas,'Courier New',monospace\"><span style=\"font-weight: bold\">Model: \"sequential_2\"</span>\n",
       "</pre>\n"
      ],
      "text/plain": [
       "\u001b[1mModel: \"sequential_2\"\u001b[0m\n"
      ]
     },
     "metadata": {},
     "output_type": "display_data"
    },
    {
     "data": {
      "text/html": [
       "<pre style=\"white-space:pre;overflow-x:auto;line-height:normal;font-family:Menlo,'DejaVu Sans Mono',consolas,'Courier New',monospace\">┏━━━━━━━━━━━━━━━━━━━━━━━━━━━━━━━━━┳━━━━━━━━━━━━━━━━━━━━━━━━┳━━━━━━━━━━━━━━━┓\n",
       "┃<span style=\"font-weight: bold\"> Layer (type)                    </span>┃<span style=\"font-weight: bold\"> Output Shape           </span>┃<span style=\"font-weight: bold\">       Param # </span>┃\n",
       "┡━━━━━━━━━━━━━━━━━━━━━━━━━━━━━━━━━╇━━━━━━━━━━━━━━━━━━━━━━━━╇━━━━━━━━━━━━━━━┩\n",
       "│ embedding_2 (<span style=\"color: #0087ff; text-decoration-color: #0087ff\">Embedding</span>)         │ (<span style=\"color: #00d7ff; text-decoration-color: #00d7ff\">None</span>, <span style=\"color: #00af00; text-decoration-color: #00af00\">300</span>, <span style=\"color: #00af00; text-decoration-color: #00af00\">64</span>)        │     <span style=\"color: #00af00; text-decoration-color: #00af00\">1,280,000</span> │\n",
       "├─────────────────────────────────┼────────────────────────┼───────────────┤\n",
       "│ lstm_2 (<span style=\"color: #0087ff; text-decoration-color: #0087ff\">LSTM</span>)                   │ (<span style=\"color: #00d7ff; text-decoration-color: #00d7ff\">None</span>, <span style=\"color: #00af00; text-decoration-color: #00af00\">64</span>)             │        <span style=\"color: #00af00; text-decoration-color: #00af00\">33,024</span> │\n",
       "├─────────────────────────────────┼────────────────────────┼───────────────┤\n",
       "│ dropout (<span style=\"color: #0087ff; text-decoration-color: #0087ff\">Dropout</span>)               │ (<span style=\"color: #00d7ff; text-decoration-color: #00d7ff\">None</span>, <span style=\"color: #00af00; text-decoration-color: #00af00\">64</span>)             │             <span style=\"color: #00af00; text-decoration-color: #00af00\">0</span> │\n",
       "├─────────────────────────────────┼────────────────────────┼───────────────┤\n",
       "│ dense_2 (<span style=\"color: #0087ff; text-decoration-color: #0087ff\">Dense</span>)                 │ (<span style=\"color: #00d7ff; text-decoration-color: #00d7ff\">None</span>, <span style=\"color: #00af00; text-decoration-color: #00af00\">1</span>)              │            <span style=\"color: #00af00; text-decoration-color: #00af00\">65</span> │\n",
       "└─────────────────────────────────┴────────────────────────┴───────────────┘\n",
       "</pre>\n"
      ],
      "text/plain": [
       "┏━━━━━━━━━━━━━━━━━━━━━━━━━━━━━━━━━┳━━━━━━━━━━━━━━━━━━━━━━━━┳━━━━━━━━━━━━━━━┓\n",
       "┃\u001b[1m \u001b[0m\u001b[1mLayer (type)                   \u001b[0m\u001b[1m \u001b[0m┃\u001b[1m \u001b[0m\u001b[1mOutput Shape          \u001b[0m\u001b[1m \u001b[0m┃\u001b[1m \u001b[0m\u001b[1m      Param #\u001b[0m\u001b[1m \u001b[0m┃\n",
       "┡━━━━━━━━━━━━━━━━━━━━━━━━━━━━━━━━━╇━━━━━━━━━━━━━━━━━━━━━━━━╇━━━━━━━━━━━━━━━┩\n",
       "│ embedding_2 (\u001b[38;5;33mEmbedding\u001b[0m)         │ (\u001b[38;5;45mNone\u001b[0m, \u001b[38;5;34m300\u001b[0m, \u001b[38;5;34m64\u001b[0m)        │     \u001b[38;5;34m1,280,000\u001b[0m │\n",
       "├─────────────────────────────────┼────────────────────────┼───────────────┤\n",
       "│ lstm_2 (\u001b[38;5;33mLSTM\u001b[0m)                   │ (\u001b[38;5;45mNone\u001b[0m, \u001b[38;5;34m64\u001b[0m)             │        \u001b[38;5;34m33,024\u001b[0m │\n",
       "├─────────────────────────────────┼────────────────────────┼───────────────┤\n",
       "│ dropout (\u001b[38;5;33mDropout\u001b[0m)               │ (\u001b[38;5;45mNone\u001b[0m, \u001b[38;5;34m64\u001b[0m)             │             \u001b[38;5;34m0\u001b[0m │\n",
       "├─────────────────────────────────┼────────────────────────┼───────────────┤\n",
       "│ dense_2 (\u001b[38;5;33mDense\u001b[0m)                 │ (\u001b[38;5;45mNone\u001b[0m, \u001b[38;5;34m1\u001b[0m)              │            \u001b[38;5;34m65\u001b[0m │\n",
       "└─────────────────────────────────┴────────────────────────┴───────────────┘\n"
      ]
     },
     "metadata": {},
     "output_type": "display_data"
    },
    {
     "data": {
      "text/html": [
       "<pre style=\"white-space:pre;overflow-x:auto;line-height:normal;font-family:Menlo,'DejaVu Sans Mono',consolas,'Courier New',monospace\"><span style=\"font-weight: bold\"> Total params: </span><span style=\"color: #00af00; text-decoration-color: #00af00\">1,313,089</span> (5.01 MB)\n",
       "</pre>\n"
      ],
      "text/plain": [
       "\u001b[1m Total params: \u001b[0m\u001b[38;5;34m1,313,089\u001b[0m (5.01 MB)\n"
      ]
     },
     "metadata": {},
     "output_type": "display_data"
    },
    {
     "data": {
      "text/html": [
       "<pre style=\"white-space:pre;overflow-x:auto;line-height:normal;font-family:Menlo,'DejaVu Sans Mono',consolas,'Courier New',monospace\"><span style=\"font-weight: bold\"> Trainable params: </span><span style=\"color: #00af00; text-decoration-color: #00af00\">1,313,089</span> (5.01 MB)\n",
       "</pre>\n"
      ],
      "text/plain": [
       "\u001b[1m Trainable params: \u001b[0m\u001b[38;5;34m1,313,089\u001b[0m (5.01 MB)\n"
      ]
     },
     "metadata": {},
     "output_type": "display_data"
    },
    {
     "data": {
      "text/html": [
       "<pre style=\"white-space:pre;overflow-x:auto;line-height:normal;font-family:Menlo,'DejaVu Sans Mono',consolas,'Courier New',monospace\"><span style=\"font-weight: bold\"> Non-trainable params: </span><span style=\"color: #00af00; text-decoration-color: #00af00\">0</span> (0.00 B)\n",
       "</pre>\n"
      ],
      "text/plain": [
       "\u001b[1m Non-trainable params: \u001b[0m\u001b[38;5;34m0\u001b[0m (0.00 B)\n"
      ]
     },
     "metadata": {},
     "output_type": "display_data"
    }
   ],
   "source": [
    "\n",
    "vocab_size = 20000\n",
    "embedding_dim = 64\n",
    "sequence_length = 300\n",
    "dropout_rate = 0.5\n",
    "\n",
    "model = Sequential([\n",
    "    Input(shape=(sequence_length,)),\n",
    "    Embedding(input_dim=vocab_size, output_dim=embedding_dim),\n",
    "    LSTM(64, return_sequences=False),\n",
    "    Dropout(dropout_rate),\n",
    "    Dense(1, activation='sigmoid')\n",
    "])\n",
    "\n",
    "model.compile(optimizer='adam', loss='binary_crossentropy', metrics=['accuracy'])\n",
    "\n",
    "model.summary()"
   ]
  },
  {
   "cell_type": "markdown",
   "id": "383e6a7e-81d9-4af2-85b2-a73fa785fbcf",
   "metadata": {
    "id": "383e6a7e-81d9-4af2-85b2-a73fa785fbcf"
   },
   "source": [
    "#### Dropout Model with Early Stopping"
   ]
  },
  {
   "cell_type": "code",
   "execution_count": 34,
   "id": "79a9e8de-56b9-4783-a92c-2bc0be7d775c",
   "metadata": {
    "id": "79a9e8de-56b9-4783-a92c-2bc0be7d775c"
   },
   "outputs": [
    {
     "name": "stdout",
     "output_type": "stream",
     "text": [
      "Epoch 1/30\n",
      "\u001b[1m178/178\u001b[0m \u001b[32m━━━━━━━━━━━━━━━━━━━━\u001b[0m\u001b[37m\u001b[0m \u001b[1m14s\u001b[0m 73ms/step - accuracy: 0.6044 - loss: 0.6645 - val_accuracy: 0.6524 - val_loss: 0.5840\n",
      "Epoch 2/30\n",
      "\u001b[1m178/178\u001b[0m \u001b[32m━━━━━━━━━━━━━━━━━━━━\u001b[0m\u001b[37m\u001b[0m \u001b[1m13s\u001b[0m 74ms/step - accuracy: 0.6759 - loss: 0.5783 - val_accuracy: 0.7643 - val_loss: 0.5492\n",
      "Epoch 3/30\n",
      "\u001b[1m178/178\u001b[0m \u001b[32m━━━━━━━━━━━━━━━━━━━━\u001b[0m\u001b[37m\u001b[0m \u001b[1m13s\u001b[0m 75ms/step - accuracy: 0.7445 - loss: 0.5285 - val_accuracy: 0.7248 - val_loss: 0.5177\n",
      "Epoch 4/30\n",
      "\u001b[1m178/178\u001b[0m \u001b[32m━━━━━━━━━━━━━━━━━━━━\u001b[0m\u001b[37m\u001b[0m \u001b[1m14s\u001b[0m 78ms/step - accuracy: 0.7333 - loss: 0.4880 - val_accuracy: 0.6925 - val_loss: 0.5515\n",
      "Epoch 5/30\n",
      "\u001b[1m178/178\u001b[0m \u001b[32m━━━━━━━━━━━━━━━━━━━━\u001b[0m\u001b[37m\u001b[0m \u001b[1m14s\u001b[0m 80ms/step - accuracy: 0.7478 - loss: 0.4576 - val_accuracy: 0.7375 - val_loss: 0.4685\n",
      "Epoch 6/30\n",
      "\u001b[1m178/178\u001b[0m \u001b[32m━━━━━━━━━━━━━━━━━━━━\u001b[0m\u001b[37m\u001b[0m \u001b[1m13s\u001b[0m 71ms/step - accuracy: 0.7749 - loss: 0.3871 - val_accuracy: 0.7586 - val_loss: 0.4471\n",
      "Epoch 7/30\n",
      "\u001b[1m178/178\u001b[0m \u001b[32m━━━━━━━━━━━━━━━━━━━━\u001b[0m\u001b[37m\u001b[0m \u001b[1m14s\u001b[0m 78ms/step - accuracy: 0.7620 - loss: 0.3967 - val_accuracy: 0.7565 - val_loss: 0.4522\n",
      "Epoch 8/30\n",
      "\u001b[1m178/178\u001b[0m \u001b[32m━━━━━━━━━━━━━━━━━━━━\u001b[0m\u001b[37m\u001b[0m \u001b[1m12s\u001b[0m 70ms/step - accuracy: 0.7962 - loss: 0.3767 - val_accuracy: 0.8747 - val_loss: 0.3417\n",
      "Epoch 9/30\n",
      "\u001b[1m178/178\u001b[0m \u001b[32m━━━━━━━━━━━━━━━━━━━━\u001b[0m\u001b[37m\u001b[0m \u001b[1m12s\u001b[0m 70ms/step - accuracy: 0.9009 - loss: 0.3113 - val_accuracy: 0.9247 - val_loss: 0.2503\n",
      "Epoch 10/30\n",
      "\u001b[1m178/178\u001b[0m \u001b[32m━━━━━━━━━━━━━━━━━━━━\u001b[0m\u001b[37m\u001b[0m \u001b[1m13s\u001b[0m 71ms/step - accuracy: 0.9441 - loss: 0.1917 - val_accuracy: 0.9282 - val_loss: 0.2594\n",
      "Epoch 11/30\n",
      "\u001b[1m178/178\u001b[0m \u001b[32m━━━━━━━━━━━━━━━━━━━━\u001b[0m\u001b[37m\u001b[0m \u001b[1m14s\u001b[0m 76ms/step - accuracy: 0.8375 - loss: 0.4100 - val_accuracy: 0.8607 - val_loss: 0.4945\n",
      "Epoch 12/30\n",
      "\u001b[1m178/178\u001b[0m \u001b[32m━━━━━━━━━━━━━━━━━━━━\u001b[0m\u001b[37m\u001b[0m \u001b[1m13s\u001b[0m 71ms/step - accuracy: 0.8761 - loss: 0.3442 - val_accuracy: 0.9113 - val_loss: 0.3071\n"
     ]
    }
   ],
   "source": [
    "\n",
    "early_stopping = EarlyStopping(monitor='val_loss', patience=3, restore_best_weights=True)\n",
    "\n",
    "\n",
    "history = model.fit(\n",
    "    X_train, y_train,\n",
    "    epochs=30,\n",
    "    validation_data=(X_val, y_val),\n",
    "    callbacks=[early_stopping]\n",
    ")"
   ]
  },
  {
   "cell_type": "markdown",
   "id": "5f6ee327-2d24-453f-8ea1-ec322527093c",
   "metadata": {
    "id": "5f6ee327-2d24-453f-8ea1-ec322527093c"
   },
   "source": [
    "#### Let's try adjusting the learning rate using step decay. This approach will reduce the learning rate by a factor every few epochs"
   ]
  },
  {
   "cell_type": "code",
   "execution_count": 40,
   "id": "2a9d5f42-470e-4fd2-bde0-01c627b25070",
   "metadata": {
    "id": "2a9d5f42-470e-4fd2-bde0-01c627b25070",
    "outputId": "b2fd2a4b-d6c2-4e51-a746-d8cb803602e8"
   },
   "outputs": [],
   "source": [
    "\n",
    "initial_learning_rate = 0.001\n",
    "lr_schedule = tf.keras.optimizers.schedules.ExponentialDecay(\n",
    "    initial_learning_rate,\n",
    "    decay_steps=1000,\n",
    "    decay_rate=0.96,\n",
    "    staircase=True)\n",
    "\n",
    "optimizer = tf.keras.optimizers.Adam(learning_rate=lr_schedule)"
   ]
  },
  {
   "cell_type": "code",
   "execution_count": 41,
   "id": "b82d7b60-5507-4ae0-93dc-21609a2d8491",
   "metadata": {
    "id": "b82d7b60-5507-4ae0-93dc-21609a2d8491",
    "outputId": "1f6194c1-13b9-4e96-8749-2afac29504c8"
   },
   "outputs": [],
   "source": [
    "model.compile(optimizer=optimizer, loss='binary_crossentropy', metrics=['accuracy'])"
   ]
  },
  {
   "cell_type": "code",
   "execution_count": 42,
   "id": "cd6852a8-11be-46b7-a315-d0bef1113b8a",
   "metadata": {
    "id": "cd6852a8-11be-46b7-a315-d0bef1113b8a",
    "outputId": "6932d459-08d7-4e77-8b86-e621af46807e"
   },
   "outputs": [
    {
     "name": "stdout",
     "output_type": "stream",
     "text": [
      "Epoch 1/30\n",
      "\u001b[1m178/178\u001b[0m \u001b[32m━━━━━━━━━━━━━━━━━━━━\u001b[0m\u001b[37m\u001b[0m \u001b[1m13s\u001b[0m 69ms/step - accuracy: 0.9476 - loss: 0.1862 - val_accuracy: 0.9226 - val_loss: 0.2342\n",
      "Epoch 2/30\n",
      "\u001b[1m178/178\u001b[0m \u001b[32m━━━━━━━━━━━━━━━━━━━━\u001b[0m\u001b[37m\u001b[0m \u001b[1m12s\u001b[0m 69ms/step - accuracy: 0.9523 - loss: 0.1512 - val_accuracy: 0.9367 - val_loss: 0.2121\n",
      "Epoch 3/30\n",
      "\u001b[1m178/178\u001b[0m \u001b[32m━━━━━━━━━━━━━━━━━━━━\u001b[0m\u001b[37m\u001b[0m \u001b[1m12s\u001b[0m 69ms/step - accuracy: 0.9573 - loss: 0.1409 - val_accuracy: 0.9416 - val_loss: 0.2176\n",
      "Epoch 4/30\n",
      "\u001b[1m178/178\u001b[0m \u001b[32m━━━━━━━━━━━━━━━━━━━━\u001b[0m\u001b[37m\u001b[0m \u001b[1m12s\u001b[0m 70ms/step - accuracy: 0.9642 - loss: 0.1295 - val_accuracy: 0.9346 - val_loss: 0.2087\n",
      "Epoch 5/30\n",
      "\u001b[1m178/178\u001b[0m \u001b[32m━━━━━━━━━━━━━━━━━━━━\u001b[0m\u001b[37m\u001b[0m \u001b[1m12s\u001b[0m 70ms/step - accuracy: 0.9687 - loss: 0.1040 - val_accuracy: 0.8403 - val_loss: 0.4343\n",
      "Epoch 6/30\n",
      "\u001b[1m178/178\u001b[0m \u001b[32m━━━━━━━━━━━━━━━━━━━━\u001b[0m\u001b[37m\u001b[0m \u001b[1m12s\u001b[0m 70ms/step - accuracy: 0.9385 - loss: 0.1773 - val_accuracy: 0.9282 - val_loss: 0.2531\n",
      "Epoch 7/30\n",
      "\u001b[1m178/178\u001b[0m \u001b[32m━━━━━━━━━━━━━━━━━━━━\u001b[0m\u001b[37m\u001b[0m \u001b[1m12s\u001b[0m 70ms/step - accuracy: 0.9673 - loss: 0.1115 - val_accuracy: 0.9219 - val_loss: 0.3063\n"
     ]
    }
   ],
   "source": [
    "history = model.fit(\n",
    "    X_train, y_train,\n",
    "    epochs=30,\n",
    "    validation_data=(X_val, y_val),\n",
    "    callbacks=[early_stopping]\n",
    ")"
   ]
  },
  {
   "cell_type": "markdown",
   "id": "7b36e6e8-3e9c-468b-a880-369bbc910001",
   "metadata": {
    "id": "7b36e6e8-3e9c-468b-a880-369bbc910001"
   },
   "source": [
    "95% accuracy on the training set and then 93% accuracy on the test set. No significant signs of overfitting, and given the quality and quanitity of our data, this is a very reasonable result!"
   ]
  },
  {
   "cell_type": "code",
   "execution_count": 44,
   "id": "81d69b23-1720-4f4c-b6aa-61ef14fa40a3",
   "metadata": {
    "id": "81d69b23-1720-4f4c-b6aa-61ef14fa40a3"
   },
   "outputs": [
    {
     "name": "stdout",
     "output_type": "stream",
     "text": [
      "\u001b[1m45/45\u001b[0m \u001b[32m━━━━━━━━━━━━━━━━━━━━\u001b[0m\u001b[37m\u001b[0m \u001b[1m1s\u001b[0m 17ms/step\n"
     ]
    },
    {
     "data": {
      "image/png": "[encoded data removed]",
      "text/plain": [
       "<Figure size 432x288 with 2 Axes>"
      ]
     },
     "metadata": {
      "needs_background": "light"
     },
     "output_type": "display_data"
    }
   ],
   "source": [
    "'''\n",
    "\n",
    "Here is a confusion matrix showcasing False/True Positive/Negatives.\n",
    "'''\n",
    "\n",
    "y_pred = model.predict(X_val)\n",
    "y_pred = (y_pred > 0.5).astype(int)\n",
    "\n",
    "\n",
    "cm = confusion_matrix(y_val, y_pred)\n",
    "\n",
    "\n",
    "sns.heatmap(cm, annot=True, fmt=\"d\", cmap=\"Blues\")\n",
    "plt.xlabel('Predicted')\n",
    "plt.ylabel('True')\n",
    "plt.title('Confusion Matrix')\n",
    "plt.show()"
   ]
  },
  {
   "cell_type": "code",
   "execution_count": 45,
   "id": "8aeac9c7",
   "metadata": {},
   "outputs": [
    {
     "data": {
      "image/png": "[encoded data removed]",
      "text/plain": [
       "<Figure size 432x288 with 1 Axes>"
      ]
     },
     "metadata": {
      "needs_background": "light"
     },
     "output_type": "display_data"
    },
    {
     "data": {
      "image/png": "[encoded data removed]",
      "text/plain": [
       "<Figure size 432x288 with 1 Axes>"
      ]
     },
     "metadata": {
      "needs_background": "light"
     },
     "output_type": "display_data"
    }
   ],
   "source": [
    "'''\n",
    "Here are accuracy and loss curves\n",
    "\n",
    "'''\n",
    "\n",
    "plt.plot(history.history['accuracy'])\n",
    "plt.plot(history.history['val_accuracy'])\n",
    "plt.title('Model accuracy')\n",
    "plt.ylabel('Accuracy')\n",
    "plt.xlabel('Epoch')\n",
    "plt.legend(['Train', 'Test'], loc='upper left')\n",
    "plt.show()\n",
    "\n",
    "plt.plot(history.history['loss'])\n",
    "plt.plot(history.history['val_loss'])\n",
    "plt.title('Model loss')\n",
    "plt.ylabel('Loss')\n",
    "plt.xlabel('Epoch')\n",
    "plt.legend(['Train', 'Test'], loc='upper left')\n",
    "plt.show()"
   ]
  },
  {
   "cell_type": "code",
   "execution_count": null,
   "id": "3fc48200",
   "metadata": {},
   "outputs": [],
   "source": []
  }
 ],
 "metadata": {
  "colab": {
   "provenance": []
  },
  "kernelspec": {
   "display_name": "Python 3 (ipykernel)",
   "language": "python",
   "name": "python3"
  },
  "language_info": {
   "codemirror_mode": {
    "name": "ipython",
    "version": 3
   },
   "file_extension": ".py",
   "mimetype": "text/x-python",
   "name": "python",
   "nbconvert_exporter": "python",
   "pygments_lexer": "ipython3",
   "version": "3.10.1"
  }
 },
 "nbformat": 4,
 "nbformat_minor": 5
}
